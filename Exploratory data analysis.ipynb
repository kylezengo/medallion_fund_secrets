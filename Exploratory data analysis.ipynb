{
 "cells": [
  {
   "cell_type": "code",
   "execution_count": null,
   "id": "ff3765df-056e-4cb9-9500-9d8209d3d777",
   "metadata": {},
   "outputs": [],
   "source": [
    "import glob\n",
    "import os\n",
    "from dataclasses import dataclass, field\n",
    "\n",
    "import numpy as np\n",
    "import pandas as pd\n",
    "import plotly.express as px\n",
    "import plotly.graph_objects as go\n",
    "from plotly.subplots import make_subplots\n",
    "import pytz\n",
    "from astral import LocationInfo\n",
    "from astral.sun import sun\n",
    "from scipy.stats import norm, cauchy\n",
    "\n",
    "import strat_defs # custom functions\n",
    "import prep_data"
   ]
  },
  {
   "cell_type": "code",
   "execution_count": null,
   "id": "cacd5d85-7370-439e-882b-5d174604529d",
   "metadata": {},
   "outputs": [],
   "source": [
    "# Set up prepd_data data frame\n",
    "indicator_config = prep_data.IndicatorConfig(ticker='GEV', target='Adj Close')\n",
    "\n",
    "prepd_data = prep_data.prep_data(config=indicator_config, drop_tickers=False)"
   ]
  },
  {
   "cell_type": "code",
   "execution_count": null,
   "id": "2f92a8e9-0273-4f9e-9063-e80269fd0498",
   "metadata": {},
   "outputs": [],
   "source": [
    "vol_cols = [col for col in prepd_data.columns if 'Volume_' in col]\n",
    "\n",
    "column_sums = prepd_data[vol_cols].sum().sort_values(ascending=False)\n",
    "\n",
    "fig = px.bar(x=column_sums.index.str.replace('Volume_', ''), y=column_sums.values,\n",
    "             labels={'x': 'Ticker', 'y': 'Total Volume'}, title=\"Total Volume by Ticker\")\n",
    "\n",
    "fig.show()"
   ]
  },
  {
   "cell_type": "code",
   "execution_count": null,
   "id": "fa453cb6-580b-4ef2-b3fc-f1b2551d0aae",
   "metadata": {},
   "outputs": [],
   "source": [
    "column_sums.tail(10)"
   ]
  },
  {
   "cell_type": "code",
   "execution_count": null,
   "id": "a279dc80-8942-45f3-9a65-66ba10d01a01",
   "metadata": {},
   "outputs": [],
   "source": [
    "data = prepd_data['Daily_Return'].dropna()\n",
    "\n",
    "# Compute histogram using numpy to get exact bin edges and bin width\n",
    "hist_values, bin_edges = np.histogram(data, bins=300, density=False)\n",
    "bin_width = bin_edges[1] - bin_edges[0]\n",
    "\n",
    "# x values covering the histogram's range using the same bin edges\n",
    "x = np.linspace(bin_edges[0], bin_edges[-1], 100)\n",
    "\n",
    "# Create a histogram in Plotly using explicit binning to match np.histogram\n",
    "hist = go.Histogram(x=data, xbins=dict(start=bin_edges[0], end=bin_edges[-1], size=bin_width), name=\"Histogram\")\n",
    "\n",
    "# Fit distributions and create PDFs\n",
    "mu, std = norm.fit(data)\n",
    "loc, scale = cauchy.fit(data)\n",
    "\n",
    "pdf_norm = norm.pdf(x, mu, std) * len(data) * bin_width\n",
    "pdf_cauchy = cauchy.pdf(x, loc, scale) * len(data) * bin_width\n",
    "\n",
    "# Create curves\n",
    "curve_norm = go.Scatter(x=x, y=pdf_norm, mode='lines', name=\"Fitted Normal\")\n",
    "curve_cauchy = go.Scatter(x=x, y=pdf_cauchy, mode='lines', name=\"Fitted Cauchy\")\n",
    "\n",
    "fig = go.Figure([hist, curve_norm, curve_cauchy])\n",
    "fig.update_layout(title=f\"{indicator_config.ticker} Daily Return Histogram with Fitted Normal and Cauchy Distributions\",\n",
    "                  xaxis_title=\"Value\", yaxis_title=\"Frequency\")\n",
    "fig.show()"
   ]
  }
 ],
 "metadata": {
  "celltoolbar": "Raw Cell Format",
  "kernelspec": {
   "display_name": "Python [conda env:base] *",
   "language": "python",
   "name": "conda-base-py"
  },
  "language_info": {
   "codemirror_mode": {
    "name": "ipython",
    "version": 3
   },
   "file_extension": ".py",
   "mimetype": "text/x-python",
   "name": "python",
   "nbconvert_exporter": "python",
   "pygments_lexer": "ipython3",
   "version": "3.12.7"
  }
 },
 "nbformat": 4,
 "nbformat_minor": 5
}
