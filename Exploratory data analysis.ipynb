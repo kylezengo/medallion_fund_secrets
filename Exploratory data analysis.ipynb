{
 "cells": [
  {
   "cell_type": "code",
   "execution_count": null,
   "id": "ff3765df-056e-4cb9-9500-9d8209d3d777",
   "metadata": {},
   "outputs": [],
   "source": [
    "import glob\n",
    "import os\n",
    "from dataclasses import dataclass, field\n",
    "\n",
    "import numpy as np\n",
    "import pandas as pd\n",
    "import plotly.express as px\n",
    "import plotly.graph_objects as go\n",
    "from plotly.subplots import make_subplots\n",
    "import pytz\n",
    "from astral import LocationInfo\n",
    "from astral.sun import sun\n",
    "from scipy.stats import norm, cauchy\n",
    "from pandas.tseries.offsets import MonthBegin, MonthEnd\n",
    "\n",
    "import strat_defs # custom functions\n",
    "import prep_data"
   ]
  },
  {
   "cell_type": "code",
   "execution_count": null,
   "id": "ab3f66cb-9edf-435e-a020-207f63f4cd9d",
   "metadata": {},
   "outputs": [],
   "source": [
    "gt_monthly_files = glob.glob('gt_monthly_*.csv')\n",
    "gt_monthly_latest = max(gt_monthly_files, key=os.path.getctime)\n",
    "gt_monthly_raw = pd.read_csv(gt_monthly_latest, parse_dates=['start_date','end_date'])\n",
    "\n",
    "gt_weekly_files = glob.glob('gt_weekly_*.csv')\n",
    "gt_weekly_latest = max(gt_weekly_files, key=os.path.getctime)\n",
    "gt_weekly_raw = pd.read_csv(gt_weekly_latest, parse_dates=['start_date','end_date'])\n",
    "\n",
    "gt_daily_files = glob.glob('gt_daily_*.csv')\n",
    "gt_daily_latest = max(gt_daily_files, key=os.path.getctime)\n",
    "gt_daily_raw = pd.read_csv(gt_daily_latest, parse_dates=['date'])\n",
    "\n",
    "gt_adjusted_files = glob.glob('gt_adjusted_*.csv')\n",
    "gt_adjusted_latest = max(gt_adjusted_files, key=os.path.getctime)\n",
    "gt_adjusted_raw = pd.read_csv(gt_adjusted_latest, parse_dates=['date'])"
   ]
  },
  {
   "cell_type": "code",
   "execution_count": null,
   "id": "bcc4d91c-4b0a-4903-8e11-9d7225ea3c76",
   "metadata": {},
   "outputs": [],
   "source": [
    "gt_daily_raw.loc[gt_daily_raw['date'] == \"2025-04-20\"]\n",
    "\n",
    "# if i have a duplicate after na and not na fix, can i just use the one with the datetime?"
   ]
  },
  {
   "cell_type": "code",
   "execution_count": null,
   "id": "87f4b34c-1659-4be2-aee8-0b4b903fceb4",
   "metadata": {},
   "outputs": [],
   "source": [
    "# gt_adjusted_raw.loc[gt_adjusted_raw.duplicated(subset=['date'])]\n",
    "\n",
    "gt_adjusted_raw.loc[gt_adjusted_raw['date'] == \"2025-04-20\"]"
   ]
  },
  {
   "cell_type": "code",
   "execution_count": null,
   "id": "cacd5d85-7370-439e-882b-5d174604529d",
   "metadata": {
    "scrolled": true
   },
   "outputs": [],
   "source": [
    "stocks_df, wiki_pageviews, ffr_raw, weather, gt_adjusted = prep_data.load_data()\n",
    "\n",
    "# Set up prepd_data data frame\n",
    "prepd_data = prep_data.prep_data(\n",
    "    stocks_df,\n",
    "    wiki_pageviews,\n",
    "    ffr_raw,\n",
    "    weather,\n",
    "    gt_adjusted,\n",
    "    config=prep_data.IndicatorConfig(ticker=\"SPY\"),\n",
    "    drop_tickers=False\n",
    ")"
   ]
  },
  {
   "cell_type": "code",
   "execution_count": null,
   "id": "83dfbf82-3807-4c34-9786-b1ac5d22216b",
   "metadata": {},
   "outputs": [],
   "source": [
    "prepd_data.dtypes"
   ]
  },
  {
   "cell_type": "code",
   "execution_count": null,
   "id": "2dff8746-5f6a-453d-9c98-f3a6de942288",
   "metadata": {},
   "outputs": [],
   "source": [
    "prepd_data_ext = prepd_data\n",
    "prepd_data_ext['day_of_week_name'] = prepd_data_ext['Date'].dt.day_name()\n",
    "\n",
    "review_cols = ['Date', 'day_of_week_name', 'Adj Close_SPY', 'index_Trump', 'Target']\n",
    "\n",
    "prepd_data_ext[review_cols]"
   ]
  },
  {
   "cell_type": "code",
   "execution_count": null,
   "id": "ea1d25b0-b3f2-4865-9457-99101287378f",
   "metadata": {},
   "outputs": [],
   "source": [
    "px.box(\n",
    "    prepd_data_ext,\n",
    "    x=\"day_of_week_name\",\n",
    "    y=\"Daily_Return\",\n",
    "    labels={'day_of_week_name':'Day of week'},\n",
    "    title='Return by day of week'\n",
    ")"
   ]
  },
  {
   "cell_type": "code",
   "execution_count": null,
   "id": "8d85cd06-9713-4595-9624-f143ffe8fb5c",
   "metadata": {},
   "outputs": [],
   "source": [
    "selected_kw = \"Trump\"\n",
    "\n",
    "for_monthly = gt_monthly_raw.loc[gt_monthly_raw['search_term']==selected_kw].sort_values(by='start_date')\n",
    "for_monthly['params_date_range'] = for_monthly['pytrends_params'].str.extract(r'\"(\\d{4}-\\d{2}-\\d{2} \\d{4}-\\d{2}-\\d{2})\"')[0]\n",
    "for_monthly = for_monthly.loc[for_monthly['params_date_range']==max(for_monthly['params_date_range'])] # could be chunky if ran mult. per day\n",
    "\n",
    "for_daily = gt_adjusted_raw.loc[gt_adjusted_raw['search_term']==selected_kw].sort_values(by='date')\n",
    "for_daily_bp = gt_daily_raw.loc[gt_daily_raw['search_term']==selected_kw].sort_values(by='date')\n",
    "for_daily_bp['day_of_week'] = for_daily_bp['date'].dt.day_name()\n",
    "\n",
    "fig1 = px.line(for_monthly, x=\"start_date\", y=\"index\", labels={'start_date':'Month'},title=f'{selected_kw} Monthly index')\n",
    "fig2 = px.line(for_daily, x=\"date\", y=\"index\",labels={'date':'Date','index':'Scaled index'},title=f'{selected_kw} Daily scaled index')\n",
    "fig3 = px.box(for_daily_bp, x=\"day_of_week\", y=\"index\",labels={'day_of_week':'Day of week'},title=f'{selected_kw} index by Day of week')\n",
    "fig3.update_xaxes(categoryorder='array', categoryarray=['Sunday','Monday','Tuesday','Wednesday','Thursday','Friday','Saturday'])\n",
    "fig1.show()\n",
    "fig2.show()\n",
    "fig3.show()"
   ]
  },
  {
   "cell_type": "code",
   "execution_count": null,
   "id": "2f92a8e9-0273-4f9e-9063-e80269fd0498",
   "metadata": {},
   "outputs": [],
   "source": [
    "vol_cols = [col for col in prepd_data.columns if 'Volume_' in col]\n",
    "\n",
    "column_sums = prepd_data[vol_cols].sum().sort_values(ascending=False)\n",
    "\n",
    "fig = px.bar(x=column_sums.index.str.replace('Volume_', ''), y=column_sums.values,\n",
    "             labels={'x': 'Ticker', 'y': 'Total Volume'}, title=\"Total Volume by Ticker\")\n",
    "\n",
    "fig.show()"
   ]
  },
  {
   "cell_type": "code",
   "execution_count": null,
   "id": "fa453cb6-580b-4ef2-b3fc-f1b2551d0aae",
   "metadata": {},
   "outputs": [],
   "source": [
    "column_sums.tail(10)"
   ]
  },
  {
   "cell_type": "code",
   "execution_count": null,
   "id": "a279dc80-8942-45f3-9a65-66ba10d01a01",
   "metadata": {},
   "outputs": [],
   "source": [
    "data = prepd_data['Daily_Return'].dropna()\n",
    "\n",
    "# Compute histogram using numpy to get exact bin edges and bin width\n",
    "hist_values, bin_edges = np.histogram(data, bins=300, density=False)\n",
    "bin_width = bin_edges[1] - bin_edges[0]\n",
    "\n",
    "# x values covering the histogram's range using the same bin edges\n",
    "x = np.linspace(bin_edges[0], bin_edges[-1], 100)\n",
    "\n",
    "# Create a histogram in Plotly using explicit binning to match np.histogram\n",
    "hist = go.Histogram(x=data, xbins=dict(start=bin_edges[0], end=bin_edges[-1], size=bin_width), name=\"Histogram\")\n",
    "\n",
    "# Fit distributions and create PDFs\n",
    "mu, std = norm.fit(data)\n",
    "loc, scale = cauchy.fit(data)\n",
    "\n",
    "pdf_norm = norm.pdf(x, mu, std) * len(data) * bin_width\n",
    "pdf_cauchy = cauchy.pdf(x, loc, scale) * len(data) * bin_width\n",
    "\n",
    "# Create curves\n",
    "curve_norm = go.Scatter(x=x, y=pdf_norm, mode='lines', name=\"Fitted Normal\")\n",
    "curve_cauchy = go.Scatter(x=x, y=pdf_cauchy, mode='lines', name=\"Fitted Cauchy\")\n",
    "\n",
    "fig = go.Figure([hist, curve_norm, curve_cauchy])\n",
    "fig.update_layout(title=f\"SPY Daily Return Histogram with Fitted Normal and Cauchy Distributions\",\n",
    "                  xaxis_title=\"Value\", yaxis_title=\"Frequency\")\n",
    "fig.show()"
   ]
  },
  {
   "cell_type": "code",
   "execution_count": null,
   "id": "de77e0c0-7658-47a5-818a-5acaff1447ff",
   "metadata": {},
   "outputs": [],
   "source": [
    "fig = px.scatter(x=prepd_data['Volume_SPY'],              \n",
    "                 y=prepd_data['Daily_Return'])\n",
    "\n",
    "fig.update_layout(title=\"SPY Daily Return vs Volume\",\n",
    "                  xaxis_title=\"Volume\", yaxis_title=\"Daily Return\")\n",
    "\n",
    "fig.show()"
   ]
  }
 ],
 "metadata": {
  "celltoolbar": "Raw Cell Format",
  "kernelspec": {
   "display_name": "Python 3 (ipykernel)",
   "language": "python",
   "name": "python3"
  },
  "language_info": {
   "codemirror_mode": {
    "name": "ipython",
    "version": 3
   },
   "file_extension": ".py",
   "mimetype": "text/x-python",
   "name": "python",
   "nbconvert_exporter": "python",
   "pygments_lexer": "ipython3",
   "version": "3.12.7"
  }
 },
 "nbformat": 4,
 "nbformat_minor": 5
}
