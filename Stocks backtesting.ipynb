{
 "cells": [
  {
   "cell_type": "code",
   "execution_count": 1,
   "id": "f2a434b5",
   "metadata": {},
   "outputs": [],
   "source": [
    "import glob\n",
    "import os\n",
    "import time\n",
    "import urllib.parse\n",
    "from datetime import datetime, date\n",
    "\n",
    "import pandas as pd\n",
    "import numpy as np\n",
    "import plotly.express as px\n",
    "import plotly.graph_objects as go\n",
    "from plotly.subplots import make_subplots\n",
    "import pytz\n",
    "import tensorflow as tf\n",
    "from astral import LocationInfo\n",
    "from astral.sun import sun\n",
    "from keras import layers, models\n",
    "from prophet import Prophet\n",
    "from sklearn import preprocessing\n",
    "from sklearn.decomposition import PCA\n",
    "from sklearn.ensemble import RandomForestClassifier\n",
    "from sklearn.linear_model import LinearRegression, LogisticRegression\n",
    "from sklearn.metrics import accuracy_score, classification_report, confusion_matrix\n",
    "from sklearn.model_selection import train_test_split\n",
    "from sklearn.preprocessing import LabelEncoder, StandardScaler\n",
    "from xgboost import XGBClassifier\n",
    "\n",
    "import strat_defs # custom functions\n",
    "import prep_data"
   ]
  },
  {
   "cell_type": "code",
   "execution_count": 2,
   "id": "8c852914",
   "metadata": {},
   "outputs": [],
   "source": [
    "# Uncomment if running prophet (prophet prints something each time)\n",
    "# Doesn't work with restart run all ¯\\_(ツ)_/¯\n",
    "import logging\n",
    "logging.getLogger(\"prophet\").setLevel(logging.ERROR)\n",
    "logging.getLogger(\"cmdstanpy\").setLevel(logging.ERROR)"
   ]
  },
  {
   "cell_type": "code",
   "execution_count": 3,
   "id": "138eb238-b332-428a-83a1-c16af5fd380d",
   "metadata": {},
   "outputs": [],
   "source": [
    "def gen_powerset(some_list):\n",
    "    powerset = [[]]\n",
    "\n",
    "    for i in some_list:\n",
    "        powerset += [x + [i] for x in powerset]\n",
    "\n",
    "    return powerset"
   ]
  },
  {
   "cell_type": "markdown",
   "id": "9c9f83c8-3892-465f-b36e-3e97d8f4714d",
   "metadata": {
    "jp-MarkdownHeadingCollapsed": true
   },
   "source": [
    "### Configuration"
   ]
  },
  {
   "cell_type": "code",
   "execution_count": 5,
   "id": "cacd5d85-7370-439e-882b-5d174604529d",
   "metadata": {},
   "outputs": [],
   "source": [
    "moving_average_config = prep_data.MovingAverageConfig(short_window=10, long_window=50)\n",
    "bollinger_config = prep_data.BollingerConfig(window=90, num_std=3.0)\n",
    "\n",
    "indicator_config = prep_data.IndicatorConfig(\n",
    "    ticker='SPY',\n",
    "    target='Adj Close', # probably should always be Adj Close\n",
    "    rsi_window = 30,\n",
    "    moving_average=moving_average_config,\n",
    "    bollinger=bollinger_config\n",
    ")\n",
    "\n",
    "logit_config = strat_defs.LogitConfig(max_iter=1000, proba=0.5, c=0.01, pca_n_components=0.95)\n",
    "mlp_config = strat_defs.MLPConfig(max_iter=2000, proba=0.5, alpha=0.0001, hidden_layer_sizes = (32, 16))\n",
    "keras_config = strat_defs.KerasConfig(proba=0.5, sequence_length=30, epochs=20)\n",
    "\n",
    "backtest_config = strat_defs.BacktestConfig(\n",
    "    overbought = 70,\n",
    "    xgboost_proba = 0.4,\n",
    "    svc_proba = 0.5,\n",
    "    logit = logit_config,\n",
    "    mlp = mlp_config,\n",
    "    keras = keras_config\n",
    ")"
   ]
  },
  {
   "cell_type": "markdown",
   "id": "97cea3f2-6dac-4182-a8b6-9c7e248b405d",
   "metadata": {
    "jp-MarkdownHeadingCollapsed": true
   },
   "source": [
    "### Build dataframe for testing"
   ]
  },
  {
   "cell_type": "code",
   "execution_count": 7,
   "id": "9aa2daee-41ff-42e3-86b2-aab6fd0f1a22",
   "metadata": {},
   "outputs": [],
   "source": [
    "prepd_data = prep_data.prep_data(config=indicator_config, drop_tickers=False)"
   ]
  },
  {
   "cell_type": "markdown",
   "id": "4f1b6c35",
   "metadata": {
    "editable": true,
    "slideshow": {
     "slide_type": ""
    },
    "tags": []
   },
   "source": [
    "### Set backtest_strategy Parameters"
   ]
  },
  {
   "cell_type": "markdown",
   "id": "93df6292-7ba4-4a24-873e-2c1d0487c7ee",
   "metadata": {},
   "source": [
    "**s_date**\\\n",
    "data start date S&P 500 minimum is 1993-01-29, Wikipedia page views minimum is 2015-07-01\n",
    "\n",
    "**exclude_vars**\\\n",
    "enum {\"Open\",\"High\",\"Low\",\"Close\",\"Adj Close\",\"Volume\",\"movement\", \"views\"}\n",
    "\n",
    "**strategy_list**\\\n",
    "enum {\"Hold\",\"SMA\",\"RSI\",\"VWAP\",\"Bollinger\",\"Breakout\",\"Prophet\",\"Logit\",\"RandomForest\",\"XGBoost\", \"XGBoost_scaled\",\"SVC\",\"MLP\",\"Keras\",\"Perfection\"}\n",
    "\n",
    "\\\n",
    "*If testing Breakout, \"High\" and \"Low\" cannot be excluded*"
   ]
  },
  {
   "cell_type": "code",
   "execution_count": 10,
   "id": "c88598b0-2602-4f9a-bec4-fd0eeecd5252",
   "metadata": {},
   "outputs": [],
   "source": [
    "s_date = \"2015-07-01\"\n",
    "exclude_vars = (\"Open\",\"High\",\"Low\",\"Close\")\n",
    "\n",
    "initial_capital = 10000\n",
    "initial_train_period = 1890#7535\n",
    "bko_window = 20\n",
    "xgboost_proba = 0.4\n",
    "svc_proba = 0.53\n",
    "keras_proba = 0.5\n",
    "keras_sequence_length = 30\n",
    "random_state = 42\n",
    "n_jobs = None\n",
    "\n",
    "# # Stocks to test\n",
    "# to_test = [\"SPY\",\"AAPL\",\"GOOG\",\"F\",\"IBM\",\"KO\",\"WMT\"] # Invest in stock where max probability of increase\n",
    "#                                                      # If max probability of all tickers < 0.7, then sell and buy nothing\n",
    "\n",
    "# Strategies to test\n",
    "strategy_list = [\"Hold\",\"Logit\",\"Logit_PCA\",\"XGBoost\",\"XGBoost_scaled\"]"
   ]
  },
  {
   "cell_type": "markdown",
   "id": "2cc9c206-2049-4107-8a42-a45f2a78916a",
   "metadata": {},
   "source": [
    "### Run models"
   ]
  },
  {
   "cell_type": "code",
   "execution_count": null,
   "id": "176ac32a",
   "metadata": {},
   "outputs": [
    {
     "name": "stdout",
     "output_type": "stream",
     "text": [
      "Training on data set with 2412 rows and 1792 features\n",
      "Hold score = None, time = 0.009843826293945312\n",
      "Logit score = 0.8531729572791373, time = 152.59610390663147\n",
      "Logit_PCA score = None, time = 1830.984540939331\n",
      "XGBoost "
     ]
    }
   ],
   "source": [
    "%%time\n",
    "df_for_chart = prepd_data.loc[prepd_data['Date']>=s_date].reset_index(drop=True)\n",
    "df_for_chart = df_for_chart.loc[:,~df_for_chart.columns.str.startswith(exclude_vars)]\n",
    "df_for_chart = df_for_chart.dropna(axis='columns') # drop columns with an na\n",
    "\n",
    "print(f'Training on data set with {len(df_for_chart)} rows and {df_for_chart.shape[1]-1} features')\n",
    "\n",
    "# Calculate portfolio value over time\n",
    "strat_bds = {}\n",
    "strat_mods = {}\n",
    "for strat in strategy_list:\n",
    "    start_time = time.time()\n",
    "    print(f'{strat}', end=\" \")\n",
    "    backtested_data,model,score = strat_defs.backtest_strategy(data=df_for_chart,\n",
    "                                                               initial_capital=initial_capital,\n",
    "                                                               strategy=strat,\n",
    "                                                               target=indicator_config.target,\n",
    "                                                               ticker=indicator_config.ticker,\n",
    "                                                               config=backtest_config,\n",
    "                                                               initial_train_period=initial_train_period,\n",
    "                                                               bko_window=bko_window,\n",
    "                                                               xgboost_proba=xgboost_proba,\n",
    "                                                               svc_proba=svc_proba,\n",
    "                                                               random_state=random_state,\n",
    "                                                               n_jobs=n_jobs)\n",
    "    end_time = time.time()\n",
    "    print(f'score = {score}, time = {end_time-start_time}')\n",
    "    \n",
    "    strat_bds[strat] = backtested_data\n",
    "    strat_mods[strat] = model"
   ]
  },
  {
   "cell_type": "code",
   "execution_count": null,
   "id": "bad6a198-002c-438a-be93-3a839884e6ca",
   "metadata": {},
   "outputs": [],
   "source": [
    "strats_not_hold = [x for x in strategy_list if x != \"Hold\"]\n",
    "\n",
    "combos = [x for x in gen_powerset(strats_not_hold) if len(x) > 1]\n",
    "\n",
    "mod_mod_dic = {}\n",
    "for mods in combos:\n",
    "    # Model of models\n",
    "    df_prev = strat_bds[mods[0]][['Date','Daily_Return','Target','proba_1','Signal']]\n",
    "    df_prev = df_prev.rename(columns={'proba_1': 'proba_1'+mods[0], 'Signal': 'Signal_'+mods[0]})\n",
    "    for i in mods[1:]:\n",
    "        mod_mod = strat_bds[i][['Date','proba_1','Signal']].rename(columns={'proba_1': 'proba_1'+i, 'Signal': 'Signal_'+i})\n",
    "        mod_mod = mod_mod.merge(df_prev,on='Date')\n",
    "        df_prev = mod_mod\n",
    "    \n",
    "    # All strats predict 0\n",
    "    signal_columns = mod_mod.columns[mod_mod.columns.str.contains('Signal')]\n",
    "    \n",
    "    mod_mod['Signal_all0'] = np.where(mod_mod[signal_columns].eq(0).all(axis=1), 0, 1) \n",
    "    \n",
    "    mod_mod['Strategy_Return_all0'] = mod_mod['Signal_all0'].shift(1) * mod_mod['Daily_Return']\n",
    "    mod_mod['Portfolio_Value_all0'] = (1 + mod_mod['Strategy_Return_all0']).cumprod() * initial_capital\n",
    "    \n",
    "    # Using strategy with most confident prediction (furthest from 50%)\n",
    "    proba_cols = [col for col in mod_mod.columns if col.startswith('proba_1')]\n",
    "    \n",
    "    for i in proba_cols:\n",
    "        mod_mod[\"dist_\"+i] = abs(mod_mod[i] - 0.5)\n",
    "    \n",
    "    dist_cols = [col for col in mod_mod.columns if col.startswith('dist_')]\n",
    "    \n",
    "    mod_mod['proba_1max_col'] = mod_mod[dist_cols].idxmax(axis=1,skipna=True)\n",
    "    mod_mod['proba_1max_col'] = mod_mod['proba_1max_col'].str.replace(\"dist_\",\"\")\n",
    "    \n",
    "    mod_mod['proba_1max'] = mod_mod.apply(\n",
    "        lambda row: row[row['proba_1max_col']] if pd.notnull(row['proba_1max_col']) else 1, axis=1\n",
    "    )\n",
    "    \n",
    "    mod_mod['Signal'] = mod_mod['proba_1max'].round()\n",
    "    \n",
    "    mod_mod['Strategy_Return'] = mod_mod['Signal'].shift(1) * mod_mod['Daily_Return']\n",
    "    mod_mod['Portfolio_Value'] = (1 + mod_mod['Strategy_Return']).cumprod() * initial_capital\n",
    "\n",
    "    mod_mod_dic[\"_\".join(mods)] = mod_mod"
   ]
  },
  {
   "cell_type": "markdown",
   "id": "da4f7ed1-e8d0-4948-9ad2-aabe5ee9c951",
   "metadata": {},
   "source": [
    "### Results"
   ]
  },
  {
   "cell_type": "code",
   "execution_count": null,
   "id": "c62efc5b-df52-40a3-9ce6-56045f2a7628",
   "metadata": {},
   "outputs": [],
   "source": [
    "# Plot Daily Portfolio Value\n",
    "fig = go.Figure()\n",
    "\n",
    "for strat in strategy_list:\n",
    "    fig.add_trace(go.Scatter(x=strat_bds[strat]['Date'], y=strat_bds[strat]['Portfolio_Value'],\n",
    "                             mode='lines', name=f'Portfolio Value ({strat})'))\n",
    "\n",
    "for mods in combos:\n",
    "    df = mod_mod_dic[\"_\".join(mods)]\n",
    "    fig.add_trace(go.Scatter(x=df['Date'], y=df['Portfolio_Value'],\n",
    "                             mode='lines', name=f\"Portfolio Value ({'_'.join(mods)})\"))\n",
    "\n",
    "for mods in combos:\n",
    "    df = mod_mod_dic[\"_\".join(mods)]\n",
    "    fig.add_trace(go.Scatter(x=df['Date'], y=df['Portfolio_Value_all0'],\n",
    "                             mode='lines', name=f\"Portfolio Value ({'_'.join(mods)}))_all0\"))\n",
    "\n",
    "fig.update_layout(title=\"Portfolio\")\n",
    "fig.show()"
   ]
  },
  {
   "cell_type": "code",
   "execution_count": null,
   "id": "284874c5-d6bd-489d-a48e-45398b7e5f6a",
   "metadata": {},
   "outputs": [],
   "source": [
    "strat_bds['Logit'].loc[strat_bds['Logit']['Date']>=\"2023-01-01\"].head()"
   ]
  },
  {
   "cell_type": "code",
   "execution_count": null,
   "id": "5606a2f4",
   "metadata": {},
   "outputs": [],
   "source": [
    "# XGBoost review\n",
    "not_selected_features_cols = ['Date','Target','Signal','proba_0','proba_1' ,'Strategy_Return','Portfolio_Value']\n",
    "\n",
    "selected_features = [x for x in list(strat_bds['XGBoost']) if x not in not_selected_features_cols]\n",
    "\n",
    "df = pd.DataFrame({\n",
    "    'feature_importances': strat_mods['XGBoost'].feature_importances_,\n",
    "    'selected_features':selected_features\n",
    "})\n",
    "df = df.loc[df['feature_importances']!=0]\n",
    "df = df.sort_values(by='feature_importances',ascending=False).reset_index(drop=True)\n",
    "\n",
    "fig = go.Figure(go.Bar(x=df['feature_importances'], y=df['selected_features'], orientation='h'))\n",
    "\n",
    "fig.update_layout(title=\"Feature Importance (XGBoost)\", xaxis_title=\"Importance\",\n",
    "                  yaxis={'categoryorder':'total ascending'},\n",
    "                  height=600)\n",
    "\n",
    "fig.show()\n",
    "\n",
    "print('Feature importances in XGBoost model')\n",
    "df.loc[df['selected_features'].isin([\"sunlight_nyc\",\"federal_funds_rate\",\n",
    "                        \"high_temp_nyc\",\"low_temp_nyc\",\"precipitation_PRCP_nyc\",\"precipitation_SNOW_nyc\",\n",
    "                        \"streak\",\"streak0\",\"streak1\",\"next_is_0\",\"next_is_1\",\"prob_next_is_0\",\"prob_next_is_1\"])]"
   ]
  },
  {
   "cell_type": "code",
   "execution_count": null,
   "id": "f1949b09",
   "metadata": {},
   "outputs": [],
   "source": [
    "mod_mod_cc = mod_mod.dropna().reset_index(drop=True)\n",
    "mod_mod_cc['win'] = mod_mod_cc['Target']==mod_mod_cc['Signal']\n",
    "\n",
    "all_win = mod_mod_cc['Target'].value_counts(normalize=True)[1]\n",
    "mod_win = mod_mod_cc['win'].value_counts(normalize=True)[True]\n",
    "\n",
    "logit_cc = strat_bds['Logit'].dropna().reset_index(drop=True)\n",
    "logit_cc['win'] = logit_cc['Target']==logit_cc['Signal']\n",
    "\n",
    "logit_win = logit_cc['win'].value_counts(normalize=True)[True]\n",
    "\n",
    "print(f'If I guess the market will increase every day, I would be right '\n",
    "      f'{all_win:.0%} of the time. The mod_mod_cc model was correct {mod_win:.0%} of the time.'\n",
    "      f'The logit_cc model was correct {logit_win:.0%} of the time.')"
   ]
  },
  {
   "cell_type": "code",
   "execution_count": null,
   "id": "e96142c7-09e9-4246-89f6-2ee305b2d77c",
   "metadata": {},
   "outputs": [],
   "source": [
    "# Review a model\n",
    "selected_model = mod_mod\n",
    "signal = 'Signal'\n",
    "\n",
    "selected_model = selected_model.dropna().reset_index(drop=True)\n",
    "n = len(selected_model)\n",
    "\n",
    "tar_pos = selected_model.loc[selected_model['Target']==1]\n",
    "tar_neg = selected_model.loc[selected_model['Target']==0]\n",
    "sig_neg = selected_model.loc[selected_model['Signal']==0]\n",
    "\n",
    "# True positive, false positive, true negative, and false negative counts\n",
    "n_true_positive = (tar_pos['Target']==tar_pos[signal]).sum()\n",
    "n_false_positive = (tar_neg['Target']!=tar_neg[signal]).sum() # guessed 1 but was actually 0\n",
    "n_true_negative = (tar_neg['Target']==tar_neg[signal]).sum()\n",
    "n_false_negative = (tar_pos['Target']!=tar_pos[signal]).sum() # guessed 0 but was actually 1\n",
    "\n",
    "print(f'True positive: {n_true_positive}/{n} = {n_true_positive/n:.1%}')\n",
    "print(f'False positive: {n_false_positive}/{n} = {n_false_positive/n:.1%}')\n",
    "print(f'True negative: {n_true_negative}/{n} = {n_true_negative/n:.1%}')\n",
    "print(f'False negative: {n_false_negative}/{n} = {n_false_negative/n:.1%}')\n",
    "\n",
    "n_sig_neg_n_right = (sig_neg[signal]==sig_neg['Target']).sum()\n",
    "n_sig_neg_n_wrong = (sig_neg[signal]!=sig_neg['Target']).sum()\n",
    "print(f'\\nWhen I guessed 0, I was right {n_sig_neg_n_right/len(sig_neg):.1%} of the time')\n",
    "print(f'When I guessed 0, I was wrong {n_sig_neg_n_wrong/len(sig_neg):.1%} of the time')\n",
    "\n",
    "print(f'\\nI got {n_true_positive/len(tar_pos):.1%} of the positives correct and '\n",
    "      f'{n_true_negative/len(tar_neg):.1%} of the negatives correct')"
   ]
  },
  {
   "cell_type": "markdown",
   "id": "26204e12-7473-4cb1-80fa-8b112080c621",
   "metadata": {},
   "source": [
    "### Testing"
   ]
  },
  {
   "cell_type": "code",
   "execution_count": null,
   "id": "b918e001",
   "metadata": {},
   "outputs": [],
   "source": [
    "########################################################################################################\n",
    "# Testing ##############################################################################################\n",
    "########################################################################################################"
   ]
  },
  {
   "cell_type": "code",
   "execution_count": null,
   "id": "1059db26",
   "metadata": {},
   "outputs": [],
   "source": [
    "cols_for_review = ['Date','Adj Close_SPY','Target','streak0','streak1','proba_1','Signal','Portfolio_Value']\n",
    "\n",
    "# prophet = strat_bds['Prophet'][cols_for_review+['predicted_price_tomorrow']]\n",
    "logit = strat_bds['Logit'][cols_for_review]\n",
    "logit_pca = strat_bds['Logit_PCA'][cols_for_review]\n",
    "boost = strat_bds['XGBoost'][cols_for_review]\n",
    "# boost_scaled = strat_bds['XGBoost_scaled'][cols_for_review]\n",
    "svc = strat_bds['SVC'][cols_for_review]\n",
    "# mlp = strat_bds['MLP'][cols_for_review]\n",
    "# keras = strat_bds['Keras'][cols_for_review+['next_day_prediction']]"
   ]
  },
  {
   "cell_type": "code",
   "execution_count": null,
   "id": "3990c2a3-0965-437c-9495-d36e4bc159f2",
   "metadata": {
    "scrolled": true
   },
   "outputs": [],
   "source": [
    "# Why so many 0's?\n",
    "# pd.set_option('display.max_columns', None)\n",
    "strat_bds['Logit'][1741:1800]"
   ]
  },
  {
   "cell_type": "code",
   "execution_count": null,
   "id": "15cb386e-e94c-46af-b841-760cce382ad2",
   "metadata": {},
   "outputs": [],
   "source": [
    "px.histogram(logit['proba_1'].dropna())"
   ]
  },
  {
   "cell_type": "code",
   "execution_count": null,
   "id": "df6e8faa-d99b-4716-82a9-ffca8c12a2aa",
   "metadata": {},
   "outputs": [],
   "source": [
    "px.histogram(logit_pca['proba_1'].dropna())"
   ]
  },
  {
   "cell_type": "code",
   "execution_count": null,
   "id": "3bc010bf-4b4a-464c-a23f-302d743e6af9",
   "metadata": {},
   "outputs": [],
   "source": [
    "px.histogram(boost['proba_1'].dropna())"
   ]
  },
  {
   "cell_type": "code",
   "execution_count": null,
   "id": "fe316503-cab2-40a7-8335-ce093e919741",
   "metadata": {},
   "outputs": [],
   "source": [
    "px.histogram(svc['proba_1'].dropna())"
   ]
  },
  {
   "cell_type": "code",
   "execution_count": null,
   "id": "89e091a4-f38d-4f78-908d-11c1e194e5f2",
   "metadata": {},
   "outputs": [],
   "source": []
  }
 ],
 "metadata": {
  "celltoolbar": "Raw Cell Format",
  "kernelspec": {
   "display_name": "Python [conda env:base] *",
   "language": "python",
   "name": "conda-base-py"
  },
  "language_info": {
   "codemirror_mode": {
    "name": "ipython",
    "version": 3
   },
   "file_extension": ".py",
   "mimetype": "text/x-python",
   "name": "python",
   "nbconvert_exporter": "python",
   "pygments_lexer": "ipython3",
   "version": "3.12.7"
  }
 },
 "nbformat": 4,
 "nbformat_minor": 5
}
