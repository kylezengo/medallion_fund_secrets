{
 "cells": [
  {
   "cell_type": "code",
   "execution_count": null,
   "id": "f2a434b5",
   "metadata": {},
   "outputs": [],
   "source": [
    "import glob\n",
    "import os\n",
    "import time\n",
    "import urllib.parse\n",
    "from datetime import datetime, date\n",
    "\n",
    "import numpy as np\n",
    "import pandas as pd\n",
    "import plotly.express as px\n",
    "import plotly.graph_objects as go\n",
    "from plotly.subplots import make_subplots\n",
    "import pytz\n",
    "import tensorflow as tf\n",
    "from astral import LocationInfo\n",
    "from astral.sun import sun\n",
    "from keras import layers, models\n",
    "from prophet import Prophet\n",
    "from sklearn import preprocessing\n",
    "from sklearn.decomposition import PCA\n",
    "from sklearn.ensemble import RandomForestClassifier\n",
    "from sklearn.linear_model import LinearRegression, LogisticRegression\n",
    "from sklearn.metrics import accuracy_score, classification_report, confusion_matrix\n",
    "from sklearn.neighbors import KNeighborsClassifier\n",
    "from sklearn.model_selection import TimeSeriesSplit, GridSearchCV\n",
    "from sklearn.pipeline import make_pipeline\n",
    "from sklearn.preprocessing import LabelEncoder, StandardScaler\n",
    "from xgboost import XGBClassifier\n",
    "\n",
    "import strat_defs # custom functions\n",
    "import prep_data"
   ]
  },
  {
   "cell_type": "code",
   "execution_count": null,
   "id": "138eb238-b332-428a-83a1-c16af5fd380d",
   "metadata": {},
   "outputs": [],
   "source": [
    "def gen_powerset(some_list):\n",
    "    powerset = [[]]\n",
    "\n",
    "    for i in some_list:\n",
    "        powerset += [x + [i] for x in powerset]\n",
    "\n",
    "    return powerset"
   ]
  },
  {
   "cell_type": "code",
   "execution_count": null,
   "id": "c86402ee-ee11-4163-b6e4-86b3c41e33b5",
   "metadata": {},
   "outputs": [],
   "source": [
    "sp_df_files = glob.glob('sp_df_*.csv')\n",
    "sp_df_latest = max(sp_df_files, key=os.path.getctime)\n",
    "sp_df_raw = pd.read_csv(sp_df_latest)"
   ]
  },
  {
   "cell_type": "code",
   "execution_count": null,
   "id": "1b3dfba8-e20d-42f2-9274-ef4246c10070",
   "metadata": {},
   "outputs": [],
   "source": [
    "set(sp_df_raw['GICS Sector'])"
   ]
  },
  {
   "cell_type": "code",
   "execution_count": null,
   "id": "62cdf2ed-d973-4f33-a788-289fce9a354b",
   "metadata": {},
   "outputs": [],
   "source": [
    "sp_df_raw"
   ]
  },
  {
   "cell_type": "markdown",
   "id": "4f1b6c35",
   "metadata": {
    "editable": true,
    "slideshow": {
     "slide_type": ""
    },
    "tags": []
   },
   "source": [
    "### Set configuration and parameters for model testing"
   ]
  },
  {
   "cell_type": "code",
   "execution_count": null,
   "id": "2db9ea38-1a36-4a8a-b2fb-a95218a546e5",
   "metadata": {},
   "outputs": [],
   "source": [
    "# Indicator Configuration\n",
    "moving_average_config = prep_data.MovingAverageConfig(short_window=10, long_window=50)\n",
    "bollinger_config = prep_data.BollingerConfig(window=90, num_std=3.0)\n",
    "macd_config = prep_data.MACDConfig(short_window=12, long_window=26)\n",
    "\n",
    "# Backtest Configuration\n",
    "keras_config = strat_defs.KerasConfig(proba=0.5, sequence_length=30, epochs=20)\n",
    "proba_config = strat_defs.ProbaConfig(knn = 0.5, logit = 0.5, mlp = 0.5, rf = 0.5, svc = 0.5, xgboost = 0.5)\n",
    "\n",
    "backtest_config = strat_defs.BacktestConfig(\n",
    "    logit_warm_start = False, # true with drop tickers = false fails. not sure why.\n",
    "    proba = proba_config,\n",
    "    keras = keras_config\n",
    ")"
   ]
  },
  {
   "cell_type": "markdown",
   "id": "93df6292-7ba4-4a24-873e-2c1d0487c7ee",
   "metadata": {},
   "source": [
    "**s_date**\\\n",
    "data start date S&P 500 minimum is 1993-01-29, Wikipedia page views minimum is 2015-07-01\n",
    "\n",
    "**exclude_vars**\\\n",
    "enum {\"Open\",\"High\",\"Low\",\"Close\",\"Adj Close\",\"Volume\",\"movement\", \"views\"}\n",
    "\n",
    "**strategy_list**\\\n",
    "enum {\"Hold\",\"KNN\",\"Logit\",\"MLP\",\"RandomForest\",\"SVC_proba\",\"XGBoost\",\"Keras\",\"Perfection\"}\n",
    "\n",
    "From fast to slow (usually): Hold, Perfection, KNN, Logit, XGBoost, SVC_proba(200s), MLP (2978s), Keras(4048s)\n",
    "\n",
    "For Best Prediction, I'm removing strategies that do not give a probability\n",
    "\n",
    "\\\n",
    "*If testing Breakout, \"High\" and \"Low\" cannot be excluded*"
   ]
  },
  {
   "cell_type": "code",
   "execution_count": null,
   "id": "c88598b0-2602-4f9a-bec4-fd0eeecd5252",
   "metadata": {},
   "outputs": [],
   "source": [
    "s_date = \"2015-07-01\"\n",
    "exclude_vars = (\"Open\",\"High\",\"Low\",\"Close\",\"Adj Close\",\"Volume\")\n",
    "\n",
    "# initial_train_period = 1000\n",
    "# initial_train_period = 1890 # 2015-07-01 start predicting in 2023\n",
    "initial_train_period = 2140 # 2015-07-01 start predicting in 2024\n",
    "# initial_train_period = 7535 # 1993-01-29 start predicting in 2024\n",
    "bko_window = 20\n",
    "random_state = 42\n",
    "n_jobs = None\n",
    "\n",
    "# Stocks to test\n",
    "# IPO after 2015-07-01: CRWD, CTVA, DAY\n",
    "to_test = ['SPY','A','AAPL','ABBV','ABT','ACGL','ACN','ADBE','ADI','ADM','ADP','ADSK','AEE','AEP']#,\n",
    "           # 'AES','AFL','AIG','AIZ','AJG','AKAM','ALB','ALGN','ALL','ALLE','AMAT','AMCR','AMD','AME',\n",
    "           # 'AMGN','AMP','AMT','AMZN','ANET','ANSS','AON','AOS','APA','APD','APH','APO','APTV','ARE',\n",
    "           # 'ATO','AVB','AVGO','AVY','AWK','AXON','AXP','AZO','BA','BAC','BALL','BAX','BBY','BDX',\n",
    "           # 'BEN','BG','BIIB','BK','BKNG','BKR','BLDR','BLK','BMY','BR','BRO','BSX','BWA','BX','BXP',\n",
    "           # 'C','CAG','CAH','CAT','CB','CBOE','CBRE','CCI','CCL','CDNS','CDW','CE','CF',\n",
    "           # 'CFG','CHD','CHRW','CHTR','CI','CINF','CL','CLX','CMCSA','CME','CMG','CMI','CMS','CNC',\n",
    "           # 'CNP','COF','COO','COP','COR','COST','CPAY','CPB','CPRT','CPT','CRL','CRM','CSCO',\n",
    "           # 'CSGP','CSX','CTAS','CTRA','CTSH','CVS','CVX','CZR','D','DAL','DD','DE']\n",
    "                                                     \n",
    "# Strategies to test\n",
    "strategy_list = [\"Hold\",\"KNN\",\"Logit\"]"
   ]
  },
  {
   "cell_type": "markdown",
   "id": "2cc9c206-2049-4107-8a42-a45f2a78916a",
   "metadata": {},
   "source": [
    "### Run models"
   ]
  },
  {
   "cell_type": "code",
   "execution_count": null,
   "id": "176ac32a",
   "metadata": {},
   "outputs": [],
   "source": [
    "%%time\n",
    "strat_bds, strat_mods = {}, {}\n",
    "for ticker in to_test:\n",
    "    print(f'\\n\\033[1m{ticker}\\033[0m')\n",
    "    indicator_config = prep_data.IndicatorConfig(ticker=ticker)\n",
    "    prepd_data = prep_data.prep_data(config=indicator_config, drop_tickers=False)\n",
    "    \n",
    "    df_for_chart = prepd_data.loc[prepd_data['Date']>=s_date].reset_index(drop=True)\n",
    "    df_for_chart = df_for_chart.drop(columns=[\n",
    "        col for col in df_for_chart.columns \n",
    "        if any(col.startswith(prefix) for prefix in exclude_vars) and col != indicator_config.target+\"_\"+indicator_config.ticker\n",
    "    ])\n",
    "    df_for_chart = df_for_chart.dropna(axis='columns') # drop columns with an na\n",
    "    \n",
    "    print(f'Training on data set with {len(df_for_chart)} rows and {df_for_chart.shape[1]-1} features\\n')\n",
    "    \n",
    "    # Calculate portfolio value over time\n",
    "    for strat in strategy_list:\n",
    "        start_time = time.time()\n",
    "        print(f'{strat}', end=\" \")\n",
    "        backtested_data,model,score = strat_defs.backtest_strategy(data=df_for_chart,\n",
    "                                                                   strategy=strat,\n",
    "                                                                   target='Adj Close',\n",
    "                                                                   ticker=ticker,\n",
    "                                                                   config=backtest_config,\n",
    "                                                                   initial_train_period=initial_train_period,\n",
    "                                                                   bko_window=bko_window,\n",
    "                                                                   random_state=random_state,\n",
    "                                                                   n_jobs=n_jobs)\n",
    "        end_time = time.time()\n",
    "        print(f'score = {score}, time = {end_time-start_time}')\n",
    "        \n",
    "        strat_bds[f'{ticker}_{strat}'] = backtested_data\n",
    "        strat_mods[f'{ticker}_{strat}'] = model"
   ]
  },
  {
   "cell_type": "code",
   "execution_count": null,
   "id": "57f75ec0-98a0-485d-9be3-be2fcb22f3ff",
   "metadata": {},
   "outputs": [],
   "source": [
    "proba_strats = [x for x in strategy_list if x not in [\"Hold\"]]\n",
    "\n",
    "combos = gen_powerset(proba_strats)\n",
    "combos.remove([])\n",
    "\n",
    "mod_mod_dic = {}\n",
    "for mods in combos:\n",
    "    mod_mod = strat_bds[to_test[0]+\"_\"+mods[0]][['Date']]\n",
    "    for ticker in to_test:\n",
    "        # Model of models\n",
    "        df_prev = strat_bds[ticker+\"_\"+mods[0]][['Date','Daily_Return','Target','proba_1','Signal']]\n",
    "        df_prev = df_prev.rename(columns={'Daily_Return': f'Daily_Return_{ticker}'\n",
    "                                          ,'Target': f'{ticker}_Target'\n",
    "                                          ,'proba_1': f'{ticker}_proba_1{mods[0]}'\n",
    "                                          ,'Signal': f'{ticker}_Signal_{mods[0]}'})\n",
    "        mod_mod = mod_mod.merge(df_prev,on='Date')\n",
    "        \n",
    "        for i in mods[1:]:\n",
    "            df = strat_bds[ticker+\"_\"+i][['Date','proba_1','Signal']].rename(columns={'proba_1': f'{ticker}_proba_1{i}'\n",
    "                                                                                      ,'Signal': f'{ticker}_Signal_{i}'})\n",
    "            mod_mod = mod_mod.merge(df,on='Date')\n",
    "    \n",
    "    proba_cols = [col for col in mod_mod.columns if 'proba_1' in col]\n",
    "\n",
    "    mod_mod['proba_1max'] = mod_mod[proba_cols].max(axis=1)\n",
    "    \n",
    "    mod_mod['proba_1max_col'] = mod_mod[proba_cols].idxmax(axis=1,skipna=True)\n",
    "    mod_mod['proba_1max_ticker'] = \"Daily_Return_\"+mod_mod['proba_1max_col'].str.split('_').str[0]\n",
    "    \n",
    "    mod_mod['proba_1max_ticker_Daily_return'] = mod_mod.apply(\n",
    "        lambda row: row[row['proba_1max_ticker']] if pd.notnull(row['proba_1max_col']) else row['Daily_Return_SPY'], axis=1\n",
    "    )\n",
    "\n",
    "    mod_mod['Strategy_Return'] = mod_mod['proba_1max_ticker_Daily_return']\n",
    "\n",
    "    mod_mod.loc[mod_mod['proba_1max'] < 0.7, 'Strategy_Return'] = mod_mod['Daily_Return_SPY']\n",
    "    mod_mod.loc[0, 'Strategy_Return'] = np.nan\n",
    "\n",
    "    mod_mod_dic[\"_\".join(mods)] = mod_mod"
   ]
  },
  {
   "cell_type": "markdown",
   "id": "da4f7ed1-e8d0-4948-9ad2-aabe5ee9c951",
   "metadata": {},
   "source": [
    "### Results"
   ]
  },
  {
   "cell_type": "code",
   "execution_count": null,
   "id": "c62efc5b-df52-40a3-9ce6-56045f2a7628",
   "metadata": {},
   "outputs": [],
   "source": [
    "initial_capital = 10000 # scalar\n",
    "\n",
    "# Plot Daily Portfolio Value\n",
    "fig = go.Figure()\n",
    "\n",
    "df = strat_bds['SPY_Hold'][initial_train_period:].copy()\n",
    "df.loc[initial_train_period, 'Strategy_Return'] = 0\n",
    "df['Portfolio_Value'] = (1 + df['Strategy_Return']).cumprod() * initial_capital\n",
    "\n",
    "fig.add_trace(go.Scatter(x=df['Date'], y=df['Portfolio_Value'],\n",
    "                                 mode='lines', name='Portfolio Value SPY_Hold'))\n",
    "\n",
    "end_val = {'SPY':df['Portfolio_Value'].values[-1]}\n",
    "for mods in combos:\n",
    "    df = mod_mod_dic[\"_\".join(mods)][initial_train_period:].copy()\n",
    "    df.loc[initial_train_period, 'Strategy_Return'] = 0\n",
    "    df['Portfolio_Value'] = (1 + df['Strategy_Return']).cumprod() * initial_capital\n",
    "    \n",
    "    fig.add_trace(go.Scatter(x=df['Date'], y=df['Portfolio_Value'],\n",
    "                             mode='lines', name=f\"Portfolio Value ({'_'.join(mods)})\"))\n",
    "    end_val['_'.join(mods)] = df['Portfolio_Value'].values[-1]\n",
    "\n",
    "fig.update_layout(title=\"Portfolio\")\n",
    "fig.show()"
   ]
  },
  {
   "cell_type": "code",
   "execution_count": null,
   "id": "cf85a4d4-e6e6-427a-8640-54b5424db730",
   "metadata": {},
   "outputs": [],
   "source": [
    "pl_df = pd.DataFrame([end_val]).transpose().reset_index()\n",
    "pl_df = pl_df.rename(columns={0:'end_val','index':'ticker'})\n",
    "pl_df['vs_SPY'] = pl_df['end_val'] - end_val['SPY']\n",
    "pl_df.sort_values(by='vs_SPY',ascending=False)"
   ]
  },
  {
   "cell_type": "code",
   "execution_count": null,
   "id": "8fd19cb9-82d8-4540-9553-39bfcd20defc",
   "metadata": {},
   "outputs": [],
   "source": [
    "for i in combos:\n",
    "    j ='_'.join(i)\n",
    "    pl = end_val[j]-end_val['SPY']\n",
    "\n",
    "    if pl < 0:\n",
    "        print(f'{j} P&L: -${pl*-1:,.2f}')\n",
    "    else:\n",
    "        print(f'{j} P&L: ${pl:,.2f}')"
   ]
  }
 ],
 "metadata": {
  "celltoolbar": "Raw Cell Format",
  "kernelspec": {
   "display_name": "Python [conda env:base] *",
   "language": "python",
   "name": "conda-base-py"
  },
  "language_info": {
   "codemirror_mode": {
    "name": "ipython",
    "version": 3
   },
   "file_extension": ".py",
   "mimetype": "text/x-python",
   "name": "python",
   "nbconvert_exporter": "python",
   "pygments_lexer": "ipython3",
   "version": "3.12.7"
  }
 },
 "nbformat": 4,
 "nbformat_minor": 5
}
