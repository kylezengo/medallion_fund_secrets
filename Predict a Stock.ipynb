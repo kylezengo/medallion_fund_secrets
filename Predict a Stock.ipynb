{
 "cells": [
  {
   "cell_type": "code",
   "execution_count": 1,
   "id": "72064630-ea24-4d7f-a23d-61c2a2667b7b",
   "metadata": {},
   "outputs": [],
   "source": [
    "# !python -m pip install --upgrade yfinance"
   ]
  },
  {
   "cell_type": "code",
   "execution_count": 41,
   "id": "f2a434b5",
   "metadata": {},
   "outputs": [],
   "source": [
    "import glob\n",
    "import logging\n",
    "import os\n",
    "import time\n",
    "import urllib.parse\n",
    "from datetime import datetime, date\n",
    "\n",
    "import numpy as np\n",
    "import pandas as pd\n",
    "import plotly.express as px\n",
    "import plotly.graph_objects as go\n",
    "from plotly.subplots import make_subplots\n",
    "import pytz\n",
    "import tensorflow as tf\n",
    "from astral import LocationInfo\n",
    "from astral.sun import sun\n",
    "from keras import layers, models\n",
    "from prophet import Prophet\n",
    "from sklearn import preprocessing\n",
    "from sklearn.decomposition import PCA\n",
    "from sklearn.ensemble import RandomForestClassifier\n",
    "from sklearn.linear_model import LinearRegression, LogisticRegression\n",
    "from sklearn.metrics import accuracy_score, classification_report, confusion_matrix\n",
    "from sklearn.neighbors import KNeighborsClassifier\n",
    "from sklearn.model_selection import TimeSeriesSplit, GridSearchCV\n",
    "from sklearn.pipeline import make_pipeline\n",
    "from sklearn.preprocessing import LabelEncoder, StandardScaler\n",
    "from xgboost import XGBClassifier\n",
    "\n",
    "import strat_defs # custom functions\n",
    "import prep_data"
   ]
  },
  {
   "cell_type": "code",
   "execution_count": 43,
   "id": "138eb238-b332-428a-83a1-c16af5fd380d",
   "metadata": {},
   "outputs": [],
   "source": [
    "def gen_powerset(some_list):\n",
    "    powerset = [[]]\n",
    "\n",
    "    for i in some_list:\n",
    "        powerset += [x+[i] for x in powerset]\n",
    "\n",
    "    return powerset"
   ]
  },
  {
   "cell_type": "code",
   "execution_count": 45,
   "id": "8c852914",
   "metadata": {},
   "outputs": [],
   "source": [
    "# Suppress prophet logging (prophet prints something each time)\n",
    "for lib in [\"prophet\", \"cmdstanpy\"]:\n",
    "    logger = logging.getLogger(lib)\n",
    "    logger.setLevel(logging.ERROR)  # Set logging level\n",
    "    \n",
    "    # Remove all existing handlers\n",
    "    while logger.hasHandlers():\n",
    "        logger.removeHandler(logger.handlers[0])\n",
    "    \n",
    "    # Add a NullHandler to prevent logs from propagating\n",
    "    logger.addHandler(logging.NullHandler())"
   ]
  },
  {
   "cell_type": "markdown",
   "id": "97cea3f2-6dac-4182-a8b6-9c7e248b405d",
   "metadata": {},
   "source": [
    "### Build dataframe for testing"
   ]
  },
  {
   "cell_type": "code",
   "execution_count": 47,
   "id": "cacd5d85-7370-439e-882b-5d174604529d",
   "metadata": {},
   "outputs": [],
   "source": [
    "# Configuration\n",
    "moving_average_config = prep_data.MovingAverageConfig(short_window=10, long_window=50)\n",
    "bollinger_config = prep_data.BollingerConfig(window=90, num_std=3.0)\n",
    "macd_config = prep_data.MACDConfig(short_window=12, long_window=26)\n",
    "\n",
    "indicator_config = prep_data.IndicatorConfig(\n",
    "    ticker='MMM',\n",
    "    target='Adj Close', # probably should always be Adj Close\n",
    "    rsi_window = 30,\n",
    "    moving_average=moving_average_config,\n",
    "    bollinger=bollinger_config,\n",
    "    macd=macd_config\n",
    ")"
   ]
  },
  {
   "cell_type": "code",
   "execution_count": 49,
   "id": "9aa2daee-41ff-42e3-86b2-aab6fd0f1a22",
   "metadata": {},
   "outputs": [],
   "source": [
    "stocks_df, wiki_pageviews, ffr_raw, weather, gt_adjusted = prep_data.load_data()\n",
    "\n",
    "prepd_data = prep_data.prep_data(stocks_df, wiki_pageviews, ffr_raw, weather, gt_adjusted, config=indicator_config, drop_tickers=True)"
   ]
  },
  {
   "cell_type": "markdown",
   "id": "4f1b6c35",
   "metadata": {
    "editable": true,
    "slideshow": {
     "slide_type": ""
    },
    "tags": []
   },
   "source": [
    "### Set configuration and parameters for model testing"
   ]
  },
  {
   "cell_type": "code",
   "execution_count": 9,
   "id": "2db9ea38-1a36-4a8a-b2fb-a95218a546e5",
   "metadata": {},
   "outputs": [],
   "source": [
    "# Configuration\n",
    "keras_config = strat_defs.KerasConfig(proba=0.5, sequence_length=30, epochs=20)\n",
    "proba_config = strat_defs.ProbaConfig(knn = 0.5, logit = 0.5, mlp = 0.5, rf = 0.5, svc = 0.5, xgboost = 0.5)\n",
    "\n",
    "backtest_config = strat_defs.BacktestConfig(\n",
    "    overbought = 70,\n",
    "    logit_warm_start = True, # true with drop tickers = false fails. not sure why. true with drop tickers = True fails. not sure why.\n",
    "    proba = proba_config,\n",
    "    keras = keras_config\n",
    ")"
   ]
  },
  {
   "cell_type": "markdown",
   "id": "93df6292-7ba4-4a24-873e-2c1d0487c7ee",
   "metadata": {},
   "source": [
    "**s_date**\\\n",
    "data start date S&P 500 minimum is 1993-01-29, Wikipedia page views minimum is 2015-07-01\n",
    "\n",
    "**exclude_vars**\\\n",
    "enum {\"Open\",\"High\",\"Low\",\"Close\",\"Adj Close\",\"Volume\",\"movement\", \"views\"}\n",
    "\n",
    "**strategy_list**\\\n",
    "enum {\"Hold\",\"SMA\",\"RSI\",\"VWAP\",\"Bollinger\",\"Breakout\",\"Prophet\",\"KNN\",\"LinearSVC\",\"Logit\",\"MLP\",\"RandomForest\",\"SVC\",\"SVC_proba\",\"XGBoost\",\"Keras\",\"Perfection\"\n",
    "\n",
    "From fast to slow (usually - times with drop_tickers=True):\\\n",
    "Hold, Perfection, SMA, RSI, VWAP, Bollinger, Breakout, KNN(*4s*), LinearSVC(*5s*), Logit(*24s*), XGBoost(*115s*), SVC(*138s*), Prophet(*160s*), SVC_proba(*200s*), MLP(*2978s*), Keras(*4048s*)\n",
    "\n",
    "\\\n",
    "*If testing Breakout, \"High\" and \"Low\" cannot be excluded*"
   ]
  },
  {
   "cell_type": "code",
   "execution_count": 11,
   "id": "c88598b0-2602-4f9a-bec4-fd0eeecd5252",
   "metadata": {},
   "outputs": [],
   "source": [
    "s_date = \"2015-07-01\"\n",
    "exclude_vars = (\"Open\",\"High\",\"Low\",\"Close\",\"Volume\")\n",
    "\n",
    "# initial_train_period = 1890 # 2015-07-01 start predicting in 2023\n",
    "initial_train_period = 2140 # 2015-07-01 start predicting in 2024\n",
    "# initial_train_period = 7535 # 1993-01-29 start predicting in 2024\n",
    "bko_window = 20\n",
    "random_state = 42\n",
    "n_jobs = None\n",
    "                                                     \n",
    "# Strategies to test\n",
    "strategy_list = [\"Hold\", \"KNN\", \"LinearSVC\", \"Logit\", \"XGBoost\"]"
   ]
  },
  {
   "cell_type": "markdown",
   "id": "2cc9c206-2049-4107-8a42-a45f2a78916a",
   "metadata": {},
   "source": [
    "### Run models"
   ]
  },
  {
   "cell_type": "code",
   "execution_count": 13,
   "id": "176ac32a",
   "metadata": {},
   "outputs": [
    {
     "name": "stdout",
     "output_type": "stream",
     "text": [
      "Training on data set with 2457 rows and 33 features\n",
      "\n",
      "Hold score = None, time = 0.0027730464935302734\n",
      "\n",
      "KNN score = 0.6901465798045603, time = 6.7353270053863525\n",
      "\n",
      "LinearSVC score = 0.5256514657980456, time = 5.251422882080078\n",
      "\n",
      "Logit "
     ]
    },
    {
     "ename": "ValueError",
     "evalue": "Initialization coef is of shape 10, expected shape 8 or 9",
     "output_type": "error",
     "traceback": [
      "\u001b[0;31m---------------------------------------------------------------------------\u001b[0m",
      "\u001b[0;31mValueError\u001b[0m                                Traceback (most recent call last)",
      "File \u001b[0;32m<timed exec>:15\u001b[0m\n",
      "File \u001b[0;32m~/Documents/GitHub/medallion_fund_secrets/strat_defs.py:716\u001b[0m, in \u001b[0;36mbacktest_strategy\u001b[0;34m(data, strategy, target, ticker, config, random_state, **kwargs)\u001b[0m\n\u001b[1;32m    714\u001b[0m     initial_train_period \u001b[38;5;241m=\u001b[39m kwargs\u001b[38;5;241m.\u001b[39mget(\u001b[38;5;124m'\u001b[39m\u001b[38;5;124minitial_train_period\u001b[39m\u001b[38;5;124m'\u001b[39m)\n\u001b[1;32m    715\u001b[0m     n_jobs \u001b[38;5;241m=\u001b[39m kwargs\u001b[38;5;241m.\u001b[39mget(\u001b[38;5;124m'\u001b[39m\u001b[38;5;124mn_jobs\u001b[39m\u001b[38;5;124m'\u001b[39m)\n\u001b[0;32m--> 716\u001b[0m     data, model, score \u001b[38;5;241m=\u001b[39m strat_logit(data, initial_train_period, config\u001b[38;5;241m.\u001b[39mproba\u001b[38;5;241m.\u001b[39mlogit,\n\u001b[1;32m    717\u001b[0m                                      config\u001b[38;5;241m.\u001b[39mlogit_warm_start, n_jobs\u001b[38;5;241m=\u001b[39mn_jobs)\n\u001b[1;32m    719\u001b[0m \u001b[38;5;28;01melif\u001b[39;00m strategy \u001b[38;5;241m==\u001b[39m \u001b[38;5;124m\"\u001b[39m\u001b[38;5;124mRandomForest\u001b[39m\u001b[38;5;124m\"\u001b[39m:\n\u001b[1;32m    720\u001b[0m     initial_train_period \u001b[38;5;241m=\u001b[39m kwargs\u001b[38;5;241m.\u001b[39mget(\u001b[38;5;124m'\u001b[39m\u001b[38;5;124minitial_train_period\u001b[39m\u001b[38;5;124m'\u001b[39m)\n",
      "File \u001b[0;32m~/Documents/GitHub/medallion_fund_secrets/strat_defs.py:308\u001b[0m, in \u001b[0;36mstrat_logit\u001b[0;34m(data, initial_train_period, logit_proba, logit_warm_start, n_jobs)\u001b[0m\n\u001b[1;32m    304\u001b[0m search\u001b[38;5;241m.\u001b[39mfit(X_train, y_train)\n\u001b[1;32m    305\u001b[0m \u001b[38;5;66;03m# print(search.best_params_)\u001b[39;00m\n\u001b[1;32m    306\u001b[0m \u001b[38;5;66;03m# print(search.best_estimator_.classes_)\u001b[39;00m\n\u001b[0;32m--> 308\u001b[0m \u001b[38;5;28;01mreturn\u001b[39;00m proba_loop(data, initial_train_period, feats, search\u001b[38;5;241m.\u001b[39mbest_estimator_, logit_proba)\n",
      "File \u001b[0;32m~/Documents/GitHub/medallion_fund_secrets/strat_defs.py:121\u001b[0m, in \u001b[0;36mproba_loop\u001b[0;34m(data, initial_train_period, feats, best_pipeline, proba)\u001b[0m\n\u001b[1;32m    118\u001b[0m y_train \u001b[38;5;241m=\u001b[39m train_data[\u001b[38;5;124m'\u001b[39m\u001b[38;5;124mTarget\u001b[39m\u001b[38;5;124m'\u001b[39m]\n\u001b[1;32m    120\u001b[0m \u001b[38;5;66;03m# Fit the pipeline (scaling + model training)\u001b[39;00m\n\u001b[0;32m--> 121\u001b[0m best_pipeline\u001b[38;5;241m.\u001b[39mfit(X_train, y_train)\n\u001b[1;32m    123\u001b[0m \u001b[38;5;66;03m# Predict for the next day\u001b[39;00m\n\u001b[1;32m    124\u001b[0m test_data \u001b[38;5;241m=\u001b[39m data\u001b[38;5;241m.\u001b[39mloc[[i]]\n",
      "File \u001b[0;32m/opt/anaconda3/lib/python3.12/site-packages/sklearn/base.py:1473\u001b[0m, in \u001b[0;36m_fit_context.<locals>.decorator.<locals>.wrapper\u001b[0;34m(estimator, *args, **kwargs)\u001b[0m\n\u001b[1;32m   1466\u001b[0m     estimator\u001b[38;5;241m.\u001b[39m_validate_params()\n\u001b[1;32m   1468\u001b[0m \u001b[38;5;28;01mwith\u001b[39;00m config_context(\n\u001b[1;32m   1469\u001b[0m     skip_parameter_validation\u001b[38;5;241m=\u001b[39m(\n\u001b[1;32m   1470\u001b[0m         prefer_skip_nested_validation \u001b[38;5;129;01mor\u001b[39;00m global_skip_validation\n\u001b[1;32m   1471\u001b[0m     )\n\u001b[1;32m   1472\u001b[0m ):\n\u001b[0;32m-> 1473\u001b[0m     \u001b[38;5;28;01mreturn\u001b[39;00m fit_method(estimator, \u001b[38;5;241m*\u001b[39margs, \u001b[38;5;241m*\u001b[39m\u001b[38;5;241m*\u001b[39mkwargs)\n",
      "File \u001b[0;32m/opt/anaconda3/lib/python3.12/site-packages/sklearn/pipeline.py:473\u001b[0m, in \u001b[0;36mPipeline.fit\u001b[0;34m(self, X, y, **params)\u001b[0m\n\u001b[1;32m    471\u001b[0m     \u001b[38;5;28;01mif\u001b[39;00m \u001b[38;5;28mself\u001b[39m\u001b[38;5;241m.\u001b[39m_final_estimator \u001b[38;5;241m!=\u001b[39m \u001b[38;5;124m\"\u001b[39m\u001b[38;5;124mpassthrough\u001b[39m\u001b[38;5;124m\"\u001b[39m:\n\u001b[1;32m    472\u001b[0m         last_step_params \u001b[38;5;241m=\u001b[39m routed_params[\u001b[38;5;28mself\u001b[39m\u001b[38;5;241m.\u001b[39msteps[\u001b[38;5;241m-\u001b[39m\u001b[38;5;241m1\u001b[39m][\u001b[38;5;241m0\u001b[39m]]\n\u001b[0;32m--> 473\u001b[0m         \u001b[38;5;28mself\u001b[39m\u001b[38;5;241m.\u001b[39m_final_estimator\u001b[38;5;241m.\u001b[39mfit(Xt, y, \u001b[38;5;241m*\u001b[39m\u001b[38;5;241m*\u001b[39mlast_step_params[\u001b[38;5;124m\"\u001b[39m\u001b[38;5;124mfit\u001b[39m\u001b[38;5;124m\"\u001b[39m])\n\u001b[1;32m    475\u001b[0m \u001b[38;5;28;01mreturn\u001b[39;00m \u001b[38;5;28mself\u001b[39m\n",
      "File \u001b[0;32m/opt/anaconda3/lib/python3.12/site-packages/sklearn/base.py:1473\u001b[0m, in \u001b[0;36m_fit_context.<locals>.decorator.<locals>.wrapper\u001b[0;34m(estimator, *args, **kwargs)\u001b[0m\n\u001b[1;32m   1466\u001b[0m     estimator\u001b[38;5;241m.\u001b[39m_validate_params()\n\u001b[1;32m   1468\u001b[0m \u001b[38;5;28;01mwith\u001b[39;00m config_context(\n\u001b[1;32m   1469\u001b[0m     skip_parameter_validation\u001b[38;5;241m=\u001b[39m(\n\u001b[1;32m   1470\u001b[0m         prefer_skip_nested_validation \u001b[38;5;129;01mor\u001b[39;00m global_skip_validation\n\u001b[1;32m   1471\u001b[0m     )\n\u001b[1;32m   1472\u001b[0m ):\n\u001b[0;32m-> 1473\u001b[0m     \u001b[38;5;28;01mreturn\u001b[39;00m fit_method(estimator, \u001b[38;5;241m*\u001b[39margs, \u001b[38;5;241m*\u001b[39m\u001b[38;5;241m*\u001b[39mkwargs)\n",
      "File \u001b[0;32m/opt/anaconda3/lib/python3.12/site-packages/sklearn/linear_model/_logistic.py:1350\u001b[0m, in \u001b[0;36mLogisticRegression.fit\u001b[0;34m(self, X, y, sample_weight)\u001b[0m\n\u001b[1;32m   1347\u001b[0m \u001b[38;5;28;01melse\u001b[39;00m:\n\u001b[1;32m   1348\u001b[0m     n_threads \u001b[38;5;241m=\u001b[39m \u001b[38;5;241m1\u001b[39m\n\u001b[0;32m-> 1350\u001b[0m fold_coefs_ \u001b[38;5;241m=\u001b[39m Parallel(n_jobs\u001b[38;5;241m=\u001b[39m\u001b[38;5;28mself\u001b[39m\u001b[38;5;241m.\u001b[39mn_jobs, verbose\u001b[38;5;241m=\u001b[39m\u001b[38;5;28mself\u001b[39m\u001b[38;5;241m.\u001b[39mverbose, prefer\u001b[38;5;241m=\u001b[39mprefer)(\n\u001b[1;32m   1351\u001b[0m     path_func(\n\u001b[1;32m   1352\u001b[0m         X,\n\u001b[1;32m   1353\u001b[0m         y,\n\u001b[1;32m   1354\u001b[0m         pos_class\u001b[38;5;241m=\u001b[39mclass_,\n\u001b[1;32m   1355\u001b[0m         Cs\u001b[38;5;241m=\u001b[39m[C_],\n\u001b[1;32m   1356\u001b[0m         l1_ratio\u001b[38;5;241m=\u001b[39m\u001b[38;5;28mself\u001b[39m\u001b[38;5;241m.\u001b[39ml1_ratio,\n\u001b[1;32m   1357\u001b[0m         fit_intercept\u001b[38;5;241m=\u001b[39m\u001b[38;5;28mself\u001b[39m\u001b[38;5;241m.\u001b[39mfit_intercept,\n\u001b[1;32m   1358\u001b[0m         tol\u001b[38;5;241m=\u001b[39m\u001b[38;5;28mself\u001b[39m\u001b[38;5;241m.\u001b[39mtol,\n\u001b[1;32m   1359\u001b[0m         verbose\u001b[38;5;241m=\u001b[39m\u001b[38;5;28mself\u001b[39m\u001b[38;5;241m.\u001b[39mverbose,\n\u001b[1;32m   1360\u001b[0m         solver\u001b[38;5;241m=\u001b[39msolver,\n\u001b[1;32m   1361\u001b[0m         multi_class\u001b[38;5;241m=\u001b[39mmulti_class,\n\u001b[1;32m   1362\u001b[0m         max_iter\u001b[38;5;241m=\u001b[39m\u001b[38;5;28mself\u001b[39m\u001b[38;5;241m.\u001b[39mmax_iter,\n\u001b[1;32m   1363\u001b[0m         class_weight\u001b[38;5;241m=\u001b[39m\u001b[38;5;28mself\u001b[39m\u001b[38;5;241m.\u001b[39mclass_weight,\n\u001b[1;32m   1364\u001b[0m         check_input\u001b[38;5;241m=\u001b[39m\u001b[38;5;28;01mFalse\u001b[39;00m,\n\u001b[1;32m   1365\u001b[0m         random_state\u001b[38;5;241m=\u001b[39m\u001b[38;5;28mself\u001b[39m\u001b[38;5;241m.\u001b[39mrandom_state,\n\u001b[1;32m   1366\u001b[0m         coef\u001b[38;5;241m=\u001b[39mwarm_start_coef_,\n\u001b[1;32m   1367\u001b[0m         penalty\u001b[38;5;241m=\u001b[39mpenalty,\n\u001b[1;32m   1368\u001b[0m         max_squared_sum\u001b[38;5;241m=\u001b[39mmax_squared_sum,\n\u001b[1;32m   1369\u001b[0m         sample_weight\u001b[38;5;241m=\u001b[39msample_weight,\n\u001b[1;32m   1370\u001b[0m         n_threads\u001b[38;5;241m=\u001b[39mn_threads,\n\u001b[1;32m   1371\u001b[0m     )\n\u001b[1;32m   1372\u001b[0m     \u001b[38;5;28;01mfor\u001b[39;00m class_, warm_start_coef_ \u001b[38;5;129;01min\u001b[39;00m \u001b[38;5;28mzip\u001b[39m(classes_, warm_start_coef)\n\u001b[1;32m   1373\u001b[0m )\n\u001b[1;32m   1375\u001b[0m fold_coefs_, _, n_iter_ \u001b[38;5;241m=\u001b[39m \u001b[38;5;28mzip\u001b[39m(\u001b[38;5;241m*\u001b[39mfold_coefs_)\n\u001b[1;32m   1376\u001b[0m \u001b[38;5;28mself\u001b[39m\u001b[38;5;241m.\u001b[39mn_iter_ \u001b[38;5;241m=\u001b[39m np\u001b[38;5;241m.\u001b[39masarray(n_iter_, dtype\u001b[38;5;241m=\u001b[39mnp\u001b[38;5;241m.\u001b[39mint32)[:, \u001b[38;5;241m0\u001b[39m]\n",
      "File \u001b[0;32m/opt/anaconda3/lib/python3.12/site-packages/sklearn/utils/parallel.py:74\u001b[0m, in \u001b[0;36mParallel.__call__\u001b[0;34m(self, iterable)\u001b[0m\n\u001b[1;32m     69\u001b[0m config \u001b[38;5;241m=\u001b[39m get_config()\n\u001b[1;32m     70\u001b[0m iterable_with_config \u001b[38;5;241m=\u001b[39m (\n\u001b[1;32m     71\u001b[0m     (_with_config(delayed_func, config), args, kwargs)\n\u001b[1;32m     72\u001b[0m     \u001b[38;5;28;01mfor\u001b[39;00m delayed_func, args, kwargs \u001b[38;5;129;01min\u001b[39;00m iterable\n\u001b[1;32m     73\u001b[0m )\n\u001b[0;32m---> 74\u001b[0m \u001b[38;5;28;01mreturn\u001b[39;00m \u001b[38;5;28msuper\u001b[39m()\u001b[38;5;241m.\u001b[39m\u001b[38;5;21m__call__\u001b[39m(iterable_with_config)\n",
      "File \u001b[0;32m/opt/anaconda3/lib/python3.12/site-packages/joblib/parallel.py:1918\u001b[0m, in \u001b[0;36mParallel.__call__\u001b[0;34m(self, iterable)\u001b[0m\n\u001b[1;32m   1916\u001b[0m     output \u001b[38;5;241m=\u001b[39m \u001b[38;5;28mself\u001b[39m\u001b[38;5;241m.\u001b[39m_get_sequential_output(iterable)\n\u001b[1;32m   1917\u001b[0m     \u001b[38;5;28mnext\u001b[39m(output)\n\u001b[0;32m-> 1918\u001b[0m     \u001b[38;5;28;01mreturn\u001b[39;00m output \u001b[38;5;28;01mif\u001b[39;00m \u001b[38;5;28mself\u001b[39m\u001b[38;5;241m.\u001b[39mreturn_generator \u001b[38;5;28;01melse\u001b[39;00m \u001b[38;5;28mlist\u001b[39m(output)\n\u001b[1;32m   1920\u001b[0m \u001b[38;5;66;03m# Let's create an ID that uniquely identifies the current call. If the\u001b[39;00m\n\u001b[1;32m   1921\u001b[0m \u001b[38;5;66;03m# call is interrupted early and that the same instance is immediately\u001b[39;00m\n\u001b[1;32m   1922\u001b[0m \u001b[38;5;66;03m# re-used, this id will be used to prevent workers that were\u001b[39;00m\n\u001b[1;32m   1923\u001b[0m \u001b[38;5;66;03m# concurrently finalizing a task from the previous call to run the\u001b[39;00m\n\u001b[1;32m   1924\u001b[0m \u001b[38;5;66;03m# callback.\u001b[39;00m\n\u001b[1;32m   1925\u001b[0m \u001b[38;5;28;01mwith\u001b[39;00m \u001b[38;5;28mself\u001b[39m\u001b[38;5;241m.\u001b[39m_lock:\n",
      "File \u001b[0;32m/opt/anaconda3/lib/python3.12/site-packages/joblib/parallel.py:1847\u001b[0m, in \u001b[0;36mParallel._get_sequential_output\u001b[0;34m(self, iterable)\u001b[0m\n\u001b[1;32m   1845\u001b[0m \u001b[38;5;28mself\u001b[39m\u001b[38;5;241m.\u001b[39mn_dispatched_batches \u001b[38;5;241m+\u001b[39m\u001b[38;5;241m=\u001b[39m \u001b[38;5;241m1\u001b[39m\n\u001b[1;32m   1846\u001b[0m \u001b[38;5;28mself\u001b[39m\u001b[38;5;241m.\u001b[39mn_dispatched_tasks \u001b[38;5;241m+\u001b[39m\u001b[38;5;241m=\u001b[39m \u001b[38;5;241m1\u001b[39m\n\u001b[0;32m-> 1847\u001b[0m res \u001b[38;5;241m=\u001b[39m func(\u001b[38;5;241m*\u001b[39margs, \u001b[38;5;241m*\u001b[39m\u001b[38;5;241m*\u001b[39mkwargs)\n\u001b[1;32m   1848\u001b[0m \u001b[38;5;28mself\u001b[39m\u001b[38;5;241m.\u001b[39mn_completed_tasks \u001b[38;5;241m+\u001b[39m\u001b[38;5;241m=\u001b[39m \u001b[38;5;241m1\u001b[39m\n\u001b[1;32m   1849\u001b[0m \u001b[38;5;28mself\u001b[39m\u001b[38;5;241m.\u001b[39mprint_progress()\n",
      "File \u001b[0;32m/opt/anaconda3/lib/python3.12/site-packages/sklearn/utils/parallel.py:136\u001b[0m, in \u001b[0;36m_FuncWrapper.__call__\u001b[0;34m(self, *args, **kwargs)\u001b[0m\n\u001b[1;32m    134\u001b[0m     config \u001b[38;5;241m=\u001b[39m {}\n\u001b[1;32m    135\u001b[0m \u001b[38;5;28;01mwith\u001b[39;00m config_context(\u001b[38;5;241m*\u001b[39m\u001b[38;5;241m*\u001b[39mconfig):\n\u001b[0;32m--> 136\u001b[0m     \u001b[38;5;28;01mreturn\u001b[39;00m \u001b[38;5;28mself\u001b[39m\u001b[38;5;241m.\u001b[39mfunction(\u001b[38;5;241m*\u001b[39margs, \u001b[38;5;241m*\u001b[39m\u001b[38;5;241m*\u001b[39mkwargs)\n",
      "File \u001b[0;32m/opt/anaconda3/lib/python3.12/site-packages/sklearn/linear_model/_logistic.py:373\u001b[0m, in \u001b[0;36m_logistic_regression_path\u001b[0;34m(X, y, pos_class, Cs, fit_intercept, max_iter, tol, verbose, solver, coef, class_weight, dual, penalty, intercept_scaling, multi_class, random_state, check_input, max_squared_sum, sample_weight, l1_ratio, n_threads)\u001b[0m\n\u001b[1;32m    371\u001b[0m \u001b[38;5;28;01mif\u001b[39;00m multi_class \u001b[38;5;241m==\u001b[39m \u001b[38;5;124m\"\u001b[39m\u001b[38;5;124movr\u001b[39m\u001b[38;5;124m\"\u001b[39m:\n\u001b[1;32m    372\u001b[0m     \u001b[38;5;28;01mif\u001b[39;00m coef\u001b[38;5;241m.\u001b[39msize \u001b[38;5;129;01mnot\u001b[39;00m \u001b[38;5;129;01min\u001b[39;00m (n_features, w0\u001b[38;5;241m.\u001b[39msize):\n\u001b[0;32m--> 373\u001b[0m         \u001b[38;5;28;01mraise\u001b[39;00m \u001b[38;5;167;01mValueError\u001b[39;00m(\n\u001b[1;32m    374\u001b[0m             \u001b[38;5;124m\"\u001b[39m\u001b[38;5;124mInitialization coef is of shape \u001b[39m\u001b[38;5;132;01m%d\u001b[39;00m\u001b[38;5;124m, expected shape \u001b[39m\u001b[38;5;132;01m%d\u001b[39;00m\u001b[38;5;124m or \u001b[39m\u001b[38;5;132;01m%d\u001b[39;00m\u001b[38;5;124m\"\u001b[39m\n\u001b[1;32m    375\u001b[0m             \u001b[38;5;241m%\u001b[39m (coef\u001b[38;5;241m.\u001b[39msize, n_features, w0\u001b[38;5;241m.\u001b[39msize)\n\u001b[1;32m    376\u001b[0m         )\n\u001b[1;32m    377\u001b[0m     w0[: coef\u001b[38;5;241m.\u001b[39msize] \u001b[38;5;241m=\u001b[39m coef\n\u001b[1;32m    378\u001b[0m \u001b[38;5;28;01melse\u001b[39;00m:\n\u001b[1;32m    379\u001b[0m     \u001b[38;5;66;03m# For binary problems coef.shape[0] should be 1, otherwise it\u001b[39;00m\n\u001b[1;32m    380\u001b[0m     \u001b[38;5;66;03m# should be classes.size.\u001b[39;00m\n",
      "\u001b[0;31mValueError\u001b[0m: Initialization coef is of shape 10, expected shape 8 or 9"
     ]
    }
   ],
   "source": [
    "%%time\n",
    "df_for_chart = prepd_data.loc[prepd_data['Date']>=s_date].reset_index(drop=True)\n",
    "df_for_chart = df_for_chart.drop(columns=[\n",
    "    col for col in df_for_chart.columns \n",
    "    if any(col.startswith(prefix) for prefix in exclude_vars) and col != indicator_config.target+\"_\"+indicator_config.ticker\n",
    "])\n",
    "df_for_chart = df_for_chart.dropna(axis='columns') # drop columns with an na\n",
    "\n",
    "print(f'Training on data set with {len(df_for_chart)} rows and {df_for_chart.shape[1]-1} features')\n",
    "\n",
    "# Calculate portfolio value over time\n",
    "strat_bds, strat_mods = {}, {}\n",
    "for strat in strategy_list:\n",
    "    start_time = time.time()\n",
    "    print(f'\\n{strat}', end=\" \")\n",
    "    backtested_data,model,score = strat_defs.backtest_strategy(data=df_for_chart,\n",
    "                                                               strategy=strat,\n",
    "                                                               target=indicator_config.target,\n",
    "                                                               ticker=indicator_config.ticker,\n",
    "                                                               config=backtest_config,\n",
    "                                                               initial_train_period=initial_train_period,\n",
    "                                                               bko_window=bko_window,\n",
    "                                                               random_state=random_state,\n",
    "                                                               n_jobs=n_jobs)\n",
    "    end_time = time.time()\n",
    "    print(f'score = {score}, time = {end_time-start_time}')\n",
    "    \n",
    "    strat_bds[strat] = backtested_data\n",
    "    strat_mods[strat] = model"
   ]
  },
  {
   "cell_type": "code",
   "execution_count": 14,
   "id": "bad6a198-002c-438a-be93-3a839884e6ca",
   "metadata": {},
   "outputs": [
    {
     "ename": "KeyError",
     "evalue": "'Logit'",
     "output_type": "error",
     "traceback": [
      "\u001b[0;31m---------------------------------------------------------------------------\u001b[0m",
      "\u001b[0;31mKeyError\u001b[0m                                  Traceback (most recent call last)",
      "Cell \u001b[0;32mIn[14], line 16\u001b[0m\n\u001b[1;32m     13\u001b[0m df_prev \u001b[38;5;241m=\u001b[39m df_prev\u001b[38;5;241m.\u001b[39mrename(columns\u001b[38;5;241m=\u001b[39m{\u001b[38;5;124m'\u001b[39m\u001b[38;5;124mproba_1\u001b[39m\u001b[38;5;124m'\u001b[39m: \u001b[38;5;124m'\u001b[39m\u001b[38;5;124mproba_1\u001b[39m\u001b[38;5;124m'\u001b[39m\u001b[38;5;241m+\u001b[39mmods[\u001b[38;5;241m0\u001b[39m], \u001b[38;5;124m'\u001b[39m\u001b[38;5;124mSignal\u001b[39m\u001b[38;5;124m'\u001b[39m: \u001b[38;5;124m'\u001b[39m\u001b[38;5;124mSignal_\u001b[39m\u001b[38;5;124m'\u001b[39m\u001b[38;5;241m+\u001b[39mmods[\u001b[38;5;241m0\u001b[39m]})\n\u001b[1;32m     15\u001b[0m \u001b[38;5;28;01mfor\u001b[39;00m i \u001b[38;5;129;01min\u001b[39;00m mods[\u001b[38;5;241m1\u001b[39m:]:\n\u001b[0;32m---> 16\u001b[0m     mod_mod \u001b[38;5;241m=\u001b[39m strat_bds[i][[\u001b[38;5;124m'\u001b[39m\u001b[38;5;124mDate\u001b[39m\u001b[38;5;124m'\u001b[39m,\u001b[38;5;124m'\u001b[39m\u001b[38;5;124mproba_1\u001b[39m\u001b[38;5;124m'\u001b[39m,\u001b[38;5;124m'\u001b[39m\u001b[38;5;124mSignal\u001b[39m\u001b[38;5;124m'\u001b[39m]]\u001b[38;5;241m.\u001b[39mrename(columns\u001b[38;5;241m=\u001b[39m{\u001b[38;5;124m'\u001b[39m\u001b[38;5;124mproba_1\u001b[39m\u001b[38;5;124m'\u001b[39m: \u001b[38;5;124m'\u001b[39m\u001b[38;5;124mproba_1\u001b[39m\u001b[38;5;124m'\u001b[39m\u001b[38;5;241m+\u001b[39mi, \u001b[38;5;124m'\u001b[39m\u001b[38;5;124mSignal\u001b[39m\u001b[38;5;124m'\u001b[39m: \u001b[38;5;124m'\u001b[39m\u001b[38;5;124mSignal_\u001b[39m\u001b[38;5;124m'\u001b[39m\u001b[38;5;241m+\u001b[39mi})\n\u001b[1;32m     17\u001b[0m     mod_mod \u001b[38;5;241m=\u001b[39m mod_mod\u001b[38;5;241m.\u001b[39mmerge(df_prev,on\u001b[38;5;241m=\u001b[39m\u001b[38;5;124m'\u001b[39m\u001b[38;5;124mDate\u001b[39m\u001b[38;5;124m'\u001b[39m)\n\u001b[1;32m     18\u001b[0m     df_prev \u001b[38;5;241m=\u001b[39m mod_mod\n",
      "\u001b[0;31mKeyError\u001b[0m: 'Logit'"
     ]
    }
   ],
   "source": [
    "proba_strats = [x for x in strategy_list if x not in [\"Hold\",\"LinearSVC\",\"SVC\",\"Prophet\"]]\n",
    "\n",
    "combos = [x for x in gen_powerset(proba_strats) if len(x) > 1]\n",
    "\n",
    "mod_mod_dic = {}\n",
    "for mods in combos:\n",
    "    # Model of models\n",
    "    if indicator_config.ticker == \"SPY\":\n",
    "        df_prev = strat_bds[mods[0]][['Date','Daily_Return','Target','proba_1','Signal']]\n",
    "    else:\n",
    "        df_prev = strat_bds[mods[0]][['Date','Daily_Return_SPY','Daily_Return','Target','proba_1','Signal']]\n",
    "    \n",
    "    df_prev = df_prev.rename(columns={'proba_1': 'proba_1'+mods[0], 'Signal': 'Signal_'+mods[0]})\n",
    "\n",
    "    for i in mods[1:]:\n",
    "        mod_mod = strat_bds[i][['Date','proba_1','Signal']].rename(columns={'proba_1': 'proba_1'+i, 'Signal': 'Signal_'+i})\n",
    "        mod_mod = mod_mod.merge(df_prev,on='Date')\n",
    "        df_prev = mod_mod\n",
    "    \n",
    "    # All strats predict 0\n",
    "    signal_columns = mod_mod.columns[mod_mod.columns.str.contains('Signal')]\n",
    "    \n",
    "    mod_mod['Signal_all0'] = np.where(mod_mod[signal_columns].eq(0).all(axis=1), 0, 1) \n",
    "    \n",
    "    mod_mod['Strategy_Return_all0'] = mod_mod['Signal_all0'].shift(1) * mod_mod['Daily_Return']\n",
    "    \n",
    "    # Using strategy with most confident prediction (furthest from 50%)\n",
    "    proba_cols = [col for col in mod_mod.columns if col.startswith('proba_1')]\n",
    "    \n",
    "    for i in proba_cols:\n",
    "        mod_mod[\"dist_\"+i] = abs(mod_mod[i] - 0.5)\n",
    "    \n",
    "    dist_cols = [col for col in mod_mod.columns if col.startswith('dist_')]\n",
    "    \n",
    "    mod_mod['proba_1max_col'] = mod_mod[dist_cols].idxmax(axis=1,skipna=True)\n",
    "    mod_mod['proba_1max_col'] = mod_mod['proba_1max_col'].str.replace(\"dist_\",\"\")\n",
    "    \n",
    "    mod_mod['proba_1max'] = mod_mod.apply(\n",
    "        lambda row: row[row['proba_1max_col']] if pd.notnull(row['proba_1max_col']) else 1, axis=1\n",
    "    )\n",
    "    \n",
    "    mod_mod['Signal'] = mod_mod['proba_1max'].round()\n",
    "    \n",
    "    mod_mod['Strategy_Return'] = mod_mod['Signal'].shift(1) * mod_mod['Daily_Return']\n",
    "\n",
    "    if indicator_config.ticker != \"SPY\":\n",
    "        mod_mod.loc[:initial_train_period, 'Strategy_Return'] = mod_mod['Daily_Return_SPY']\n",
    "    \n",
    "    mod_mod.loc[0, 'Strategy_Return'] = np.nan\n",
    "\n",
    "    mod_mod_dic[\"_\".join(mods)] = mod_mod"
   ]
  },
  {
   "cell_type": "markdown",
   "id": "da4f7ed1-e8d0-4948-9ad2-aabe5ee9c951",
   "metadata": {},
   "source": [
    "### Results"
   ]
  },
  {
   "cell_type": "code",
   "execution_count": null,
   "id": "c62efc5b-df52-40a3-9ce6-56045f2a7628",
   "metadata": {},
   "outputs": [],
   "source": [
    "initial_capital = 10000 # scalar\n",
    "\n",
    "# Plot Daily Portfolio Value\n",
    "fig = go.Figure()\n",
    "\n",
    "if indicator_config.ticker != \"SPY\":\n",
    "    df = strat_bds['Hold'][initial_train_period:].copy()\n",
    "    df.loc[initial_train_period, 'Strategy_Return'] = 0\n",
    "    df['Portfolio_Value'] = (1 + df['Daily_Return_SPY']).cumprod() * initial_capital\n",
    "\n",
    "    fig.add_trace(go.Scatter(x=df['Date'], y=df['Portfolio_Value'],\n",
    "                                     mode='lines', name='Portfolio Value SPY_Hold'))\n",
    "\n",
    "for strat in strategy_list:\n",
    "    df = strat_bds[strat][initial_train_period:].copy()\n",
    "    df.loc[initial_train_period, 'Strategy_Return'] = 0\n",
    "    df['Portfolio_Value'] = (1 + df['Strategy_Return']).cumprod() * initial_capital\n",
    "    \n",
    "    fig.add_trace(go.Scatter(x=df['Date'], y=df['Portfolio_Value'],\n",
    "                             mode='lines', name=f'Portfolio Value ({strat})'))\n",
    "\n",
    "try:\n",
    "    for mods in combos:\n",
    "        df = mod_mod_dic[\"_\".join(mods)][initial_train_period:].copy()\n",
    "        df.loc[initial_train_period, 'Strategy_Return'] = 0\n",
    "        df['Portfolio_Value'] = (1 + df['Strategy_Return']).cumprod() * initial_capital\n",
    "        \n",
    "        fig.add_trace(go.Scatter(x=df['Date'], y=df['Portfolio_Value'],\n",
    "                                 mode='lines', name=f\"Portfolio Value ({'_'.join(mods)})\"))\n",
    "except:\n",
    "    pass\n",
    "\n",
    "fig.update_layout(title=\"Portfolio\")\n",
    "fig.show()"
   ]
  },
  {
   "cell_type": "code",
   "execution_count": null,
   "id": "3c04f66c-7d4d-493e-b16a-760303355156",
   "metadata": {},
   "outputs": [],
   "source": [
    "# % right\n",
    "dat = []\n",
    "for i in strategy_list:\n",
    "    after_train = strat_bds[i][initial_train_period:]\n",
    "    cc = after_train.dropna().reset_index(drop=True)\n",
    "    cc['win'] = cc['Target']==cc['Signal']\n",
    "\n",
    "    win = cc['win'].value_counts(normalize=True)[True]\n",
    "\n",
    "    dat.append(f'{win:.2%}')\n",
    "\n",
    "try:\n",
    "    combos_join = [\"_\".join(x) for x in combos]\n",
    "    for i in combos_join:\n",
    "        cc = mod_mod_dic[i].dropna().reset_index(drop=True)\n",
    "        cc['win'] = cc['Target']==cc['Signal']\n",
    "    \n",
    "        win = cc['win'].value_counts(normalize=True)[True]\n",
    "    \n",
    "        dat.append(f'{win:.2%}')\n",
    "\n",
    "    review = pd.DataFrame({'strategy': strategy_list+combos_join, 'pct_right': dat})\n",
    "except:\n",
    "    review = pd.DataFrame({'strategy': strategy_list, 'pct_right': dat})\n",
    "\n",
    "review.sort_values(by='pct_right', ascending=False)"
   ]
  },
  {
   "cell_type": "markdown",
   "id": "26204e12-7473-4cb1-80fa-8b112080c621",
   "metadata": {},
   "source": [
    "### Testing"
   ]
  },
  {
   "cell_type": "code",
   "execution_count": null,
   "id": "b918e001",
   "metadata": {},
   "outputs": [],
   "source": [
    "########################################################################################################\n",
    "# Testing ##############################################################################################\n",
    "########################################################################################################"
   ]
  },
  {
   "cell_type": "code",
   "execution_count": 189,
   "id": "63cb3497-357b-45e5-a5b9-f0a294a8acd9",
   "metadata": {},
   "outputs": [],
   "source": [
    "gt_monthly_files = glob.glob('gt_monthly_*.csv')\n",
    "gt_monthly_latest = max(gt_monthly_files, key=os.path.getctime)\n",
    "gt_monthly_loaded = pd.read_csv(gt_monthly_latest, parse_dates=['start_date','end_date'])\n",
    "\n",
    "gt_weekly_files = glob.glob('gt_weekly_*.csv')\n",
    "gt_weekly_latest = max(gt_weekly_files, key=os.path.getctime)\n",
    "gt_weekly_loaded = pd.read_csv(gt_weekly_latest, parse_dates=['start_date','end_date'])\n",
    "\n",
    "gt_daily_files = glob.glob('gt_daily_*.csv')\n",
    "gt_daily_latest = max(gt_daily_files, key=os.path.getctime)\n",
    "gt_daily_loaded = pd.read_csv(gt_daily_latest, parse_dates=['date'])"
   ]
  },
  {
   "cell_type": "code",
   "execution_count": 223,
   "id": "f34935fa-20e9-46de-b7db-6c262945e326",
   "metadata": {},
   "outputs": [
    {
     "data": {
      "text/plain": [
       "'2025-01-01 2025-12-31'"
      ]
     },
     "execution_count": 223,
     "metadata": {},
     "output_type": "execute_result"
    }
   ],
   "source": [
    "current_year_date_range = f\"{datetime.now().year}-01-01 {datetime.now().year}-12-31\"\n",
    "current_year_date_range"
   ]
  },
  {
   "cell_type": "code",
   "execution_count": 227,
   "id": "adb21ca7-bcac-4888-b4df-e59ed57fb358",
   "metadata": {},
   "outputs": [
    {
     "data": {
      "text/plain": [
       "['{\\'hl\\': \\'en-US\\', \\'tz\\': 360, \\'req\\': \\'{\"comparisonItem\": [{\"keyword\": \"AAPL\", \"time\": \"2025-01-01 2025-12-31\", \"geo\": \"US\"}], \"category\": 0, \"property\": \"\"}\\'}',\n",
       " '{\\'hl\\': \\'en-US\\', \\'tz\\': 360, \\'req\\': \\'{\"comparisonItem\": [{\"keyword\": \"recession\", \"time\": \"2025-01-01 2025-12-31\", \"geo\": \"US\"}], \"category\": 0, \"property\": \"\"}\\'}',\n",
       " '{\\'hl\\': \\'en-US\\', \\'tz\\': 360, \\'req\\': \\'{\"comparisonItem\": [{\"keyword\": \"inflation\", \"time\": \"2025-01-01 2025-12-31\", \"geo\": \"US\"}], \"category\": 0, \"property\": \"\"}\\'}',\n",
       " '{\\'hl\\': \\'en-US\\', \\'tz\\': 360, \\'req\\': \\'{\"comparisonItem\": [{\"keyword\": \"Trump\", \"time\": \"2025-01-01 2025-12-31\", \"geo\": \"US\"}], \"category\": 0, \"property\": \"\"}\\'}']"
      ]
     },
     "execution_count": 227,
     "metadata": {},
     "output_type": "execute_result"
    }
   ],
   "source": [
    "past_weekly_requests = list(set(gt_weekly_loaded['pytrends_params']))\n",
    "\n",
    "filtered = [s for s in past_weekly_requests if current_year_date_range in s]\n",
    "filtered"
   ]
  },
  {
   "cell_type": "code",
   "execution_count": null,
   "id": "5f8a50d6-291b-4b6f-ba85-03c623ccb0ed",
   "metadata": {},
   "outputs": [],
   "source": []
  },
  {
   "cell_type": "code",
   "execution_count": null,
   "id": "109060a8-a196-44ef-83ba-4bd8a57ea1c7",
   "metadata": {},
   "outputs": [],
   "source": []
  },
  {
   "cell_type": "code",
   "execution_count": null,
   "id": "15cb386e-e94c-46af-b841-760cce382ad2",
   "metadata": {},
   "outputs": [],
   "source": [
    "px.histogram(logit['proba_1'].dropna(),nbins=50)"
   ]
  },
  {
   "cell_type": "code",
   "execution_count": null,
   "id": "91f97ef1-fa82-4516-8d2a-45740ded3819",
   "metadata": {},
   "outputs": [],
   "source": [
    "px.histogram(knn['proba_1'].dropna(),nbins=50)"
   ]
  },
  {
   "cell_type": "code",
   "execution_count": null,
   "id": "3bc010bf-4b4a-464c-a23f-302d743e6af9",
   "metadata": {},
   "outputs": [],
   "source": [
    "px.histogram(boost['proba_1'].dropna(),nbins=50)"
   ]
  }
 ],
 "metadata": {
  "celltoolbar": "Raw Cell Format",
  "kernelspec": {
   "display_name": "Python [conda env:base] *",
   "language": "python",
   "name": "conda-base-py"
  },
  "language_info": {
   "codemirror_mode": {
    "name": "ipython",
    "version": 3
   },
   "file_extension": ".py",
   "mimetype": "text/x-python",
   "name": "python",
   "nbconvert_exporter": "python",
   "pygments_lexer": "ipython3",
   "version": "3.12.7"
  }
 },
 "nbformat": 4,
 "nbformat_minor": 5
}
