{
 "cells": [
  {
   "cell_type": "code",
   "execution_count": null,
   "id": "f2a434b5",
   "metadata": {},
   "outputs": [],
   "source": [
    "import glob\n",
    "import os\n",
    "import time\n",
    "import urllib.parse\n",
    "from datetime import datetime, date\n",
    "\n",
    "import numpy as np\n",
    "import pandas as pd\n",
    "import plotly.express as px\n",
    "import plotly.graph_objects as go\n",
    "from plotly.subplots import make_subplots\n",
    "import pytz\n",
    "import tensorflow as tf\n",
    "from astral import LocationInfo\n",
    "from astral.sun import sun\n",
    "from keras import layers, models\n",
    "from prophet import Prophet\n",
    "from sklearn import preprocessing\n",
    "from sklearn.decomposition import PCA\n",
    "from sklearn.ensemble import RandomForestClassifier\n",
    "from sklearn.linear_model import LinearRegression, LogisticRegression\n",
    "from sklearn.metrics import accuracy_score, classification_report, confusion_matrix\n",
    "from sklearn.neighbors import KNeighborsClassifier\n",
    "from sklearn.model_selection import TimeSeriesSplit, GridSearchCV\n",
    "from sklearn.pipeline import make_pipeline\n",
    "from sklearn.preprocessing import LabelEncoder, StandardScaler\n",
    "from xgboost import XGBClassifier\n",
    "\n",
    "import strat_defs # custom functions\n",
    "import prep_data"
   ]
  },
  {
   "cell_type": "code",
   "execution_count": null,
   "id": "8c852914",
   "metadata": {},
   "outputs": [],
   "source": [
    "# Uncomment if running prophet (prophet prints something each time)\n",
    "# Doesn't work with restart run all ¯\\_(ツ)_/¯\n",
    "import logging\n",
    "logging.getLogger(\"prophet\").setLevel(logging.ERROR)\n",
    "logging.getLogger(\"cmdstanpy\").setLevel(logging.ERROR)"
   ]
  },
  {
   "cell_type": "code",
   "execution_count": null,
   "id": "138eb238-b332-428a-83a1-c16af5fd380d",
   "metadata": {},
   "outputs": [],
   "source": [
    "def gen_powerset(some_list):\n",
    "    powerset = [[]]\n",
    "\n",
    "    for i in some_list:\n",
    "        powerset += [x + [i] for x in powerset]\n",
    "\n",
    "    return powerset"
   ]
  },
  {
   "cell_type": "markdown",
   "id": "97cea3f2-6dac-4182-a8b6-9c7e248b405d",
   "metadata": {},
   "source": [
    "### Build dataframe for testing"
   ]
  },
  {
   "cell_type": "code",
   "execution_count": null,
   "id": "cacd5d85-7370-439e-882b-5d174604529d",
   "metadata": {},
   "outputs": [],
   "source": [
    "# Configuration\n",
    "moving_average_config = prep_data.MovingAverageConfig(short_window=10, long_window=50)\n",
    "bollinger_config = prep_data.BollingerConfig(window=90, num_std=3.0)\n",
    "macd_config = prep_data.MACDConfig(short_window=12, long_window=26)\n",
    "\n",
    "indicator_config = prep_data.IndicatorConfig(\n",
    "    ticker='SPY',\n",
    "    target='Adj Close', # probably should always be Adj Close\n",
    "    rsi_window = 30,\n",
    "    moving_average=moving_average_config,\n",
    "    bollinger=bollinger_config,\n",
    "    macd=macd_config\n",
    ")"
   ]
  },
  {
   "cell_type": "code",
   "execution_count": null,
   "id": "9aa2daee-41ff-42e3-86b2-aab6fd0f1a22",
   "metadata": {},
   "outputs": [],
   "source": [
    "prepd_data = prep_data.prep_data(config=indicator_config, drop_tickers=False)"
   ]
  },
  {
   "cell_type": "markdown",
   "id": "4f1b6c35",
   "metadata": {
    "editable": true,
    "slideshow": {
     "slide_type": ""
    },
    "tags": []
   },
   "source": [
    "### Set configuration and parameters for model testing"
   ]
  },
  {
   "cell_type": "code",
   "execution_count": null,
   "id": "2db9ea38-1a36-4a8a-b2fb-a95218a546e5",
   "metadata": {},
   "outputs": [],
   "source": [
    "# Configuration\n",
    "keras_config = strat_defs.KerasConfig(proba=0.5, sequence_length=30, epochs=20)\n",
    "proba_config = strat_defs.ProbaConfig(knn = 0.5, logit = 0.5, mlp = 0.5, rf = 0.5, svc = 0.5, xgboost = 0.5)\n",
    "\n",
    "backtest_config = strat_defs.BacktestConfig(\n",
    "    overbought = 70,\n",
    "    logit_warm_start = True, # true with drop tickers = false fails. not sure why.\n",
    "    proba = proba_config,\n",
    "    keras = keras_config\n",
    ")"
   ]
  },
  {
   "cell_type": "markdown",
   "id": "93df6292-7ba4-4a24-873e-2c1d0487c7ee",
   "metadata": {},
   "source": [
    "**s_date**\\\n",
    "data start date S&P 500 minimum is 1993-01-29, Wikipedia page views minimum is 2015-07-01\n",
    "\n",
    "**exclude_vars**\\\n",
    "enum {\"Open\",\"High\",\"Low\",\"Close\",\"Adj Close\",\"Volume\",\"movement\", \"views\"}\n",
    "\n",
    "**strategy_list**\\\n",
    "enum {\"Hold\",\"SMA\",\"RSI\",\"VWAP\",\"Bollinger\",\"Breakout\",\"Prophet\",\"KNN\",\"LinearSVC\",\"Logit\",\"MLP\",\"RandomForest\",\"SVC\",\"SVC_proba\",\"XGBoost\",\"Keras\",\"Perfection\"\n",
    "\n",
    "From fast to slow (usually): Hold, Perfection, SMA, RSI, VWAP, Bollinger, Breakout, KNN, LinearSVC, Logit, XGBoost, SVC, SVC_proba(200s), MLP (2978s), Keras(4048s)\n",
    "\n",
    "\\\n",
    "*If testing Breakout, \"High\" and \"Low\" cannot be excluded*"
   ]
  },
  {
   "cell_type": "code",
   "execution_count": null,
   "id": "c88598b0-2602-4f9a-bec4-fd0eeecd5252",
   "metadata": {},
   "outputs": [],
   "source": [
    "s_date = \"2015-07-01\"\n",
    "exclude_vars = (\"Open\",\"High\",\"Low\",\"Close\",\"Volume\")\n",
    "\n",
    "# initial_train_period = 1890 # 2015-07-01 start predicting in 2023\n",
    "initial_train_period = 2140 # 2015-07-01 start predicting in 2024\n",
    "# initial_train_period = 7535 # 1993-01-29 start predicting in 2024\n",
    "bko_window = 20\n",
    "random_state = 42\n",
    "n_jobs = None\n",
    "                                                     \n",
    "# Strategies to test\n",
    "strategy_list = [\"Hold\", \"KNN\", \"LinearSVC\", \"Logit\", \"XGBoost\", \"SVC\", \"SVC_proba\"]"
   ]
  },
  {
   "cell_type": "markdown",
   "id": "2cc9c206-2049-4107-8a42-a45f2a78916a",
   "metadata": {},
   "source": [
    "### Run models"
   ]
  },
  {
   "cell_type": "code",
   "execution_count": null,
   "id": "176ac32a",
   "metadata": {},
   "outputs": [],
   "source": [
    "%%time\n",
    "df_for_chart = prepd_data.loc[prepd_data['Date']>=s_date].reset_index(drop=True)\n",
    "df_for_chart = df_for_chart.drop(columns=[\n",
    "    col for col in df_for_chart.columns \n",
    "    if any(col.startswith(prefix) for prefix in exclude_vars) and col != indicator_config.target+\"_\"+indicator_config.ticker\n",
    "])\n",
    "df_for_chart = df_for_chart.dropna(axis='columns') # drop columns with an na\n",
    "\n",
    "print(f'Training on data set with {len(df_for_chart)} rows and {df_for_chart.shape[1]-1} features')\n",
    "\n",
    "# Calculate portfolio value over time\n",
    "strat_bds, strat_mods = {}, {}\n",
    "for strat in strategy_list:\n",
    "    start_time = time.time()\n",
    "    print(f'\\n{strat}', end=\" \")\n",
    "    backtested_data,model,score = strat_defs.backtest_strategy(data=df_for_chart,\n",
    "                                                               strategy=strat,\n",
    "                                                               target=indicator_config.target,\n",
    "                                                               ticker=indicator_config.ticker,\n",
    "                                                               config=backtest_config,\n",
    "                                                               initial_train_period=initial_train_period,\n",
    "                                                               bko_window=bko_window,\n",
    "                                                               random_state=random_state,\n",
    "                                                               n_jobs=n_jobs)\n",
    "    end_time = time.time()\n",
    "    print(f'score = {score}, time = {end_time-start_time}')\n",
    "    \n",
    "    strat_bds[strat] = backtested_data\n",
    "    strat_mods[strat] = model"
   ]
  },
  {
   "cell_type": "code",
   "execution_count": null,
   "id": "bad6a198-002c-438a-be93-3a839884e6ca",
   "metadata": {},
   "outputs": [],
   "source": [
    "proba_strats = [x for x in strategy_list if x not in [\"Hold\",\"LinearSVC\",\"SVC\"]]\n",
    "\n",
    "combos = [x for x in gen_powerset(proba_strats) if len(x) > 1]\n",
    "\n",
    "mod_mod_dic = {}\n",
    "for mods in combos:\n",
    "    # Model of models\n",
    "    if indicator_config.ticker == \"SPY\":\n",
    "        df_prev = strat_bds[mods[0]][['Date','Daily_Return','Target','proba_1','Signal']]\n",
    "    else:\n",
    "        df_prev = strat_bds[mods[0]][['Date','Daily_Return_SPY','Daily_Return','Target','proba_1','Signal']]\n",
    "    \n",
    "    df_prev = df_prev.rename(columns={'proba_1': 'proba_1'+mods[0], 'Signal': 'Signal_'+mods[0]})\n",
    "\n",
    "    for i in mods[1:]:\n",
    "        mod_mod = strat_bds[i][['Date','proba_1','Signal']].rename(columns={'proba_1': 'proba_1'+i, 'Signal': 'Signal_'+i})\n",
    "        mod_mod = mod_mod.merge(df_prev,on='Date')\n",
    "        df_prev = mod_mod\n",
    "    \n",
    "    # All strats predict 0\n",
    "    signal_columns = mod_mod.columns[mod_mod.columns.str.contains('Signal')]\n",
    "    \n",
    "    mod_mod['Signal_all0'] = np.where(mod_mod[signal_columns].eq(0).all(axis=1), 0, 1) \n",
    "    \n",
    "    mod_mod['Strategy_Return_all0'] = mod_mod['Signal_all0'].shift(1) * mod_mod['Daily_Return']\n",
    "    \n",
    "    # Using strategy with most confident prediction (furthest from 50%)\n",
    "    proba_cols = [col for col in mod_mod.columns if col.startswith('proba_1')]\n",
    "    \n",
    "    for i in proba_cols:\n",
    "        mod_mod[\"dist_\"+i] = abs(mod_mod[i] - 0.5)\n",
    "    \n",
    "    dist_cols = [col for col in mod_mod.columns if col.startswith('dist_')]\n",
    "    \n",
    "    mod_mod['proba_1max_col'] = mod_mod[dist_cols].idxmax(axis=1,skipna=True)\n",
    "    mod_mod['proba_1max_col'] = mod_mod['proba_1max_col'].str.replace(\"dist_\",\"\")\n",
    "    \n",
    "    mod_mod['proba_1max'] = mod_mod.apply(\n",
    "        lambda row: row[row['proba_1max_col']] if pd.notnull(row['proba_1max_col']) else 1, axis=1\n",
    "    )\n",
    "    \n",
    "    mod_mod['Signal'] = mod_mod['proba_1max'].round()\n",
    "    \n",
    "    mod_mod['Strategy_Return'] = mod_mod['Signal'].shift(1) * mod_mod['Daily_Return']\n",
    "\n",
    "    if indicator_config.ticker != \"SPY\":\n",
    "        mod_mod.loc[:initial_train_period, 'Strategy_Return'] = mod_mod['Daily_Return_SPY']\n",
    "    \n",
    "    mod_mod.loc[0, 'Strategy_Return'] = np.nan\n",
    "\n",
    "    mod_mod_dic[\"_\".join(mods)] = mod_mod"
   ]
  },
  {
   "cell_type": "markdown",
   "id": "da4f7ed1-e8d0-4948-9ad2-aabe5ee9c951",
   "metadata": {},
   "source": [
    "### Results"
   ]
  },
  {
   "cell_type": "code",
   "execution_count": null,
   "id": "c62efc5b-df52-40a3-9ce6-56045f2a7628",
   "metadata": {},
   "outputs": [],
   "source": [
    "initial_capital = 10000 # scalar\n",
    "\n",
    "# Plot Daily Portfolio Value\n",
    "fig = go.Figure()\n",
    "\n",
    "if indicator_config.ticker != \"SPY\":\n",
    "    df = strat_bds['Hold'][initial_train_period:].copy()\n",
    "    df.loc[initial_train_period, 'Strategy_Return'] = 0\n",
    "    df['Portfolio_Value'] = (1 + df['Daily_Return_SPY']).cumprod() * initial_capital\n",
    "\n",
    "    fig.add_trace(go.Scatter(x=df['Date'], y=df['Portfolio_Value'],\n",
    "                                     mode='lines', name='Portfolio Value SPY_Hold'))\n",
    "\n",
    "for strat in strategy_list:\n",
    "    df = strat_bds[strat][initial_train_period:].copy()\n",
    "    df.loc[initial_train_period, 'Strategy_Return'] = 0\n",
    "    df['Portfolio_Value'] = (1 + df['Strategy_Return']).cumprod() * initial_capital\n",
    "    \n",
    "    fig.add_trace(go.Scatter(x=df['Date'], y=df['Portfolio_Value'],\n",
    "                             mode='lines', name=f'Portfolio Value ({strat})'))\n",
    "\n",
    "try:\n",
    "    for mods in combos:\n",
    "        df = mod_mod_dic[\"_\".join(mods)][initial_train_period:].copy()\n",
    "        df.loc[initial_train_period, 'Strategy_Return'] = 0\n",
    "        df['Portfolio_Value'] = (1 + df['Strategy_Return']).cumprod() * initial_capital\n",
    "        \n",
    "        fig.add_trace(go.Scatter(x=df['Date'], y=df['Portfolio_Value'],\n",
    "                                 mode='lines', name=f\"Portfolio Value ({'_'.join(mods)})\"))\n",
    "except:\n",
    "    pass\n",
    "\n",
    "fig.update_layout(title=\"Portfolio\")\n",
    "fig.show()"
   ]
  },
  {
   "cell_type": "code",
   "execution_count": null,
   "id": "3c04f66c-7d4d-493e-b16a-760303355156",
   "metadata": {},
   "outputs": [],
   "source": [
    "# % right\n",
    "dat = []\n",
    "for i in strategy_list:\n",
    "    after_train = strat_bds[i][initial_train_period:]\n",
    "    cc = after_train.dropna().reset_index(drop=True)\n",
    "    cc['win'] = cc['Target']==cc['Signal']\n",
    "\n",
    "    win = cc['win'].value_counts(normalize=True)[True]\n",
    "\n",
    "    dat.append(f'{win:.2%}')\n",
    "\n",
    "try:\n",
    "    combos_join = [\"_\".join(x) for x in combos]\n",
    "    for i in combos_join:\n",
    "        cc = mod_mod_dic[i].dropna().reset_index(drop=True)\n",
    "        cc['win'] = cc['Target']==cc['Signal']\n",
    "    \n",
    "        win = cc['win'].value_counts(normalize=True)[True]\n",
    "    \n",
    "        dat.append(f'{win:.2%}')\n",
    "\n",
    "    review = pd.DataFrame({'strategy': strategy_list+combos_join, 'pct_right': dat})\n",
    "except:\n",
    "    review = pd.DataFrame({'strategy': strategy_list, 'pct_right': dat})\n",
    "\n",
    "review.sort_values(by='pct_right', ascending=False)"
   ]
  },
  {
   "cell_type": "markdown",
   "id": "26204e12-7473-4cb1-80fa-8b112080c621",
   "metadata": {},
   "source": [
    "### Testing"
   ]
  },
  {
   "cell_type": "code",
   "execution_count": null,
   "id": "b918e001",
   "metadata": {},
   "outputs": [],
   "source": [
    "########################################################################################################\n",
    "# Testing ##############################################################################################\n",
    "########################################################################################################"
   ]
  },
  {
   "cell_type": "code",
   "execution_count": null,
   "id": "1059db26",
   "metadata": {},
   "outputs": [],
   "source": [
    "cols_for_review = ['Date','Adj Close_SPY','Target','streak0','streak1','proba_1','Signal']\n",
    "\n",
    "# prophet = strat_bds['Prophet'][cols_for_review+['predicted_price_tomorrow']]\n",
    "logit = strat_bds['Logit'][cols_for_review]\n",
    "knn = strat_bds['KNN'][cols_for_review]\n",
    "boost = strat_bds['XGBoost'][cols_for_review]\n",
    "# svc = strat_bds['SVC'][cols_for_review]\n",
    "# mlp = strat_bds['MLP'][cols_for_review]\n",
    "# keras = strat_bds['Keras'][cols_for_review+['next_day_prediction']]\n",
    "\n",
    "linearsvc = strat_bds['LinearSVC'][['Date','Adj Close_SPY','Target','streak0','streak1','Signal']]"
   ]
  },
  {
   "cell_type": "code",
   "execution_count": null,
   "id": "15cb386e-e94c-46af-b841-760cce382ad2",
   "metadata": {},
   "outputs": [],
   "source": [
    "px.histogram(logit['proba_1'].dropna(),nbins=50)"
   ]
  },
  {
   "cell_type": "code",
   "execution_count": null,
   "id": "91f97ef1-fa82-4516-8d2a-45740ded3819",
   "metadata": {},
   "outputs": [],
   "source": [
    "px.histogram(knn['proba_1'].dropna(),nbins=50)"
   ]
  },
  {
   "cell_type": "code",
   "execution_count": null,
   "id": "3bc010bf-4b4a-464c-a23f-302d743e6af9",
   "metadata": {},
   "outputs": [],
   "source": [
    "px.histogram(boost['proba_1'].dropna(),nbins=50)"
   ]
  }
 ],
 "metadata": {
  "celltoolbar": "Raw Cell Format",
  "kernelspec": {
   "display_name": "Python [conda env:base] *",
   "language": "python",
   "name": "conda-base-py"
  },
  "language_info": {
   "codemirror_mode": {
    "name": "ipython",
    "version": 3
   },
   "file_extension": ".py",
   "mimetype": "text/x-python",
   "name": "python",
   "nbconvert_exporter": "python",
   "pygments_lexer": "ipython3",
   "version": "3.12.7"
  }
 },
 "nbformat": 4,
 "nbformat_minor": 5
}
